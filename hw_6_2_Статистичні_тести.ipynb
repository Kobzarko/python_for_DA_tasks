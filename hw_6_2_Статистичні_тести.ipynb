{
  "cells": [
    {
      "cell_type": "markdown",
      "metadata": {
        "id": "view-in-github",
        "colab_type": "text"
      },
      "source": [
        "<a href=\"https://colab.research.google.com/github/Kobzarko/python_for_DA_tasks/blob/main/hw_6_2_%D0%A1%D1%82%D0%B0%D1%82%D0%B8%D1%81%D1%82%D0%B8%D1%87%D0%BD%D1%96_%D1%82%D0%B5%D1%81%D1%82%D0%B8.ipynb\" target=\"_parent\"><img src=\"https://colab.research.google.com/assets/colab-badge.svg\" alt=\"Open In Colab\"/></a>"
      ]
    },
    {
      "cell_type": "markdown",
      "id": "e152f6d6",
      "metadata": {
        "ExecuteTime": {
          "end_time": "2022-12-10T14:29:24.703416Z",
          "start_time": "2022-12-10T14:29:24.688485Z"
        },
        "id": "e152f6d6"
      },
      "source": [
        "## Домашнє завдання 6: Статистичні тести"
      ]
    },
    {
      "cell_type": "markdown",
      "id": "cd404683",
      "metadata": {
        "id": "cd404683"
      },
      "source": [
        "0. Зчитайте дані з `data.csv` та запишіть значення колонки data у форматі np.ndarray в змінну data. Ми будемо далі працювати з цією змінною."
      ]
    },
    {
      "cell_type": "code",
      "source": [
        "!pip install statsmodels"
      ],
      "metadata": {
        "id": "q5pMejl0fPww"
      },
      "id": "q5pMejl0fPww",
      "execution_count": null,
      "outputs": []
    },
    {
      "cell_type": "code",
      "source": [
        "import numpy as np\n",
        "import pandas as pd\n",
        "from scipy import stats\n",
        "from statsmodels.stats.weightstats import ztest"
      ],
      "metadata": {
        "id": "BiHmCidm0mu0"
      },
      "id": "BiHmCidm0mu0",
      "execution_count": 2,
      "outputs": []
    },
    {
      "cell_type": "code",
      "source": [
        "from google.colab import drive\n",
        "drive.mount('/content/drive')\n",
        "\n",
        "data_path ='/content/drive/MyDrive/Colab Notebooks/Data/data.csv'\n",
        "\n",
        "df = pd.read_csv(data_path)\n",
        "\n",
        "data_path_2 ='/content/drive/MyDrive/Colab Notebooks/Data/data_2.csv'\n",
        "\n",
        "df_2 = pd.read_csv(data_path_2)"
      ],
      "metadata": {
        "id": "a8M1Xqa3hInl",
        "outputId": "9f3280fa-89e9-45cb-b4b3-31ba5291a18b",
        "colab": {
          "base_uri": "https://localhost:8080/"
        }
      },
      "id": "a8M1Xqa3hInl",
      "execution_count": 3,
      "outputs": [
        {
          "output_type": "stream",
          "name": "stdout",
          "text": [
            "Mounted at /content/drive\n"
          ]
        }
      ]
    },
    {
      "cell_type": "code",
      "source": [
        "data = df['data'].to_numpy()"
      ],
      "metadata": {
        "id": "wfR_QxBJ19yk"
      },
      "id": "wfR_QxBJ19yk",
      "execution_count": 4,
      "outputs": []
    },
    {
      "cell_type": "markdown",
      "id": "3d06cbbf",
      "metadata": {
        "id": "3d06cbbf"
      },
      "source": [
        "Запустіть код нижче. Для коректної робити всіх подальших методів дані мають бути у вигляді одновимірного вектора, тобто мати розмір (100,)."
      ]
    },
    {
      "cell_type": "code",
      "source": [
        "data.shape"
      ],
      "metadata": {
        "id": "Rc_cM9TfhJYI",
        "colab": {
          "base_uri": "https://localhost:8080/"
        },
        "outputId": "80a6bad5-4dc1-4835-cc93-363a8e9909ef"
      },
      "id": "Rc_cM9TfhJYI",
      "execution_count": 5,
      "outputs": [
        {
          "output_type": "execute_result",
          "data": {
            "text/plain": [
              "(100,)"
            ]
          },
          "metadata": {},
          "execution_count": 5
        }
      ]
    },
    {
      "cell_type": "markdown",
      "id": "abdcef5d",
      "metadata": {
        "id": "abdcef5d"
      },
      "source": [
        "1. Зчитані дані - це сума покупок в доларах наших покупців на сайті протягом липня 2022 року.\n",
        "\n",
        "До цього місяця, ми мали продажі в середньому на чек $20. Чи вийшло у нас статистично значущо **підвищити** середній чек за останній місяць?\n",
        "\n",
        "Оберіть статистичний тест (z-test чи t-test). Виведіть p-значення статистичного тесту та зробіть висновок, чи ми маємо зараз статистично значущу різницю у розмірі середнього чеку.\n",
        "\n",
        "**Підказка**: тут тест буде одновибірковий."
      ]
    },
    {
      "cell_type": "code",
      "source": [
        "# Параметри\n",
        "mean_iq = 20  # середнє значення\n",
        "sample_mean = np.mean(data)  # Середнє значення вибірки\n",
        "sample_std = np.std(data, ddof=1)  # Стандартне відхилення вибірки\n",
        "n = len(data)  # Розмір вибірки\n",
        "alpha = 0.05\n",
        "\n",
        "# Z-тест\n",
        "z_score = (sample_mean - mean_iq) / (sample_std / np.sqrt(n))\n",
        "p_value = 2 * (1 - stats.norm.cdf(abs(z_score)))\n",
        "\n",
        "# Z-тест по лекції\n",
        "ztest_Score, p_value = ztest(data, value = 0, alternative='larger')\n",
        "\n",
        "print(f\"Z-статистика: {z_score}\")\n",
        "print(f\"P-значення: {p_value}\")\n",
        "print(ztest_Score, p_value)"
      ],
      "metadata": {
        "id": "XhxcSbYqhLz9",
        "colab": {
          "base_uri": "https://localhost:8080/"
        },
        "outputId": "fc6139f2-ac6a-4465-ffa2-1efb0a11aca6"
      },
      "id": "XhxcSbYqhLz9",
      "execution_count": 15,
      "outputs": [
        {
          "output_type": "stream",
          "name": "stdout",
          "text": [
            "Z-статистика: -0.995347738933505\n",
            "P-значення: 4.106342358583392e-211\n",
            "30.986429134642414 4.106342358583392e-211\n"
          ]
        }
      ]
    },
    {
      "cell_type": "code",
      "source": [
        "if(p_value <  alpha):\n",
        "    print(\"Відхилити Н0.\")\n",
        "else:\n",
        "    print(\"Н0 не може бути відхилена.\")"
      ],
      "metadata": {
        "colab": {
          "base_uri": "https://localhost:8080/"
        },
        "id": "tjrq8eV3tn5K",
        "outputId": "9ffa3cc9-f7b5-41f6-ca5c-b40cfdc9a777"
      },
      "id": "tjrq8eV3tn5K",
      "execution_count": 14,
      "outputs": [
        {
          "output_type": "stream",
          "name": "stdout",
          "text": [
            "Н0 не може бути відхилена.\n"
          ]
        }
      ]
    },
    {
      "cell_type": "markdown",
      "id": "05219e41",
      "metadata": {
        "ExecuteTime": {
          "end_time": "2022-12-10T14:52:46.140204Z",
          "start_time": "2022-12-10T14:52:46.112068Z"
        },
        "id": "05219e41"
      },
      "source": [
        "2. Пройшов час, і ми зібрали дані про продажі за серпень 2022 року, які зберігли у файл `data_2.csv`. Продажів було дещо більше, але чи змінився стат. значущо середній чек порівняно з липнем 2022? Перевірте це використовуючи ztest.\n",
        "\n",
        "  Виведіть p-значення статистичного тесту та зробіть висновок, чи ми маємо зараз статистично значущу різницю у розмірі середнього чека між двома місяцями.\n",
        "\n",
        "  **Підказка**: треба провести двовибірковий ztest з Н0 - що середні значення в липні та серпні 2022 року - однакові. Для кращого розуміння ситуації, можливо вам буде цікаво переглянути, які середні показники чеку були в кожен з місяців. Порівняйте свій висновок з простого спостереження середніх значень і висновок статистичного тесту. Чи вони збігаються?"
      ]
    },
    {
      "cell_type": "code",
      "source": [
        "data_2 = df_2['data'].to_numpy()"
      ],
      "metadata": {
        "id": "hbs7LPI4hP-6"
      },
      "id": "hbs7LPI4hP-6",
      "execution_count": 6,
      "outputs": []
    },
    {
      "cell_type": "code",
      "source": [
        "data_2.shape"
      ],
      "metadata": {
        "colab": {
          "base_uri": "https://localhost:8080/"
        },
        "id": "VaHlox0zIa7W",
        "outputId": "7c081352-7515-4983-e8a9-f3ebf5cd8b19"
      },
      "id": "VaHlox0zIa7W",
      "execution_count": 7,
      "outputs": [
        {
          "output_type": "execute_result",
          "data": {
            "text/plain": [
              "(120,)"
            ]
          },
          "metadata": {},
          "execution_count": 7
        }
      ]
    },
    {
      "cell_type": "code",
      "source": [
        "np.mean(data), np.mean(data_2)"
      ],
      "metadata": {
        "colab": {
          "base_uri": "https://localhost:8080/"
        },
        "id": "1RKsRKzuMNwx",
        "outputId": "b0f5482c-a28d-404c-9eb8-62446b2e1725"
      },
      "id": "1RKsRKzuMNwx",
      "execution_count": 11,
      "outputs": [
        {
          "output_type": "execute_result",
          "data": {
            "text/plain": [
              "(19.37755319670441, 19.37322276512519)"
            ]
          },
          "metadata": {},
          "execution_count": 11
        }
      ]
    },
    {
      "cell_type": "code",
      "source": [
        "ztest(data, data_2, alternative='two-sided')"
      ],
      "metadata": {
        "colab": {
          "base_uri": "https://localhost:8080/"
        },
        "id": "UOuae8GLMgD0",
        "outputId": "9aae817e-8082-4b2a-8f63-a393803b5071"
      },
      "id": "UOuae8GLMgD0",
      "execution_count": 13,
      "outputs": [
        {
          "output_type": "execute_result",
          "data": {
            "text/plain": [
              "(0.005246673456808504, 0.9958137794593356)"
            ]
          },
          "metadata": {},
          "execution_count": 13
        }
      ]
    },
    {
      "cell_type": "code",
      "source": [
        "\n",
        "# Проведемо двовибірковий Z-тест\n",
        "ztest_score, p_value = ztest(data, data_2)\n",
        "\n",
        "print(f\"Z-статистика: {ztest_score}\")\n",
        "print(f\"P-значення: {p_value}\")\n",
        "\n",
        "# Висновок\n",
        "if p_value < 0.05:\n",
        "    print(\"Є статистично значуща різниця між середнім чеком у липні та серпні.\")\n",
        "else:\n",
        "    print(\"Немає статистично значущої різниці між середнім чеком у липні та серпні.\")\n"
      ],
      "metadata": {
        "colab": {
          "base_uri": "https://localhost:8080/"
        },
        "id": "AjUDnoGkIhxq",
        "outputId": "53058c1f-b4a5-4384-a6cd-f66ad854dcd8"
      },
      "id": "AjUDnoGkIhxq",
      "execution_count": 14,
      "outputs": [
        {
          "output_type": "stream",
          "name": "stdout",
          "text": [
            "Z-статистика: 0.005246673456808504\n",
            "P-значення: 0.9958137794593356\n",
            "Немає статистично значущої різниці між середнім чеком у липні та серпні.\n"
          ]
        }
      ]
    }
  ],
  "metadata": {
    "hide_input": false,
    "kernelspec": {
      "display_name": "Python 3 (ipykernel)",
      "language": "python",
      "name": "python3"
    },
    "language_info": {
      "codemirror_mode": {
        "name": "ipython",
        "version": 3
      },
      "file_extension": ".py",
      "mimetype": "text/x-python",
      "name": "python",
      "nbconvert_exporter": "python",
      "pygments_lexer": "ipython3",
      "version": "3.11.3"
    },
    "toc": {
      "base_numbering": 1,
      "nav_menu": {},
      "number_sections": true,
      "sideBar": true,
      "skip_h1_title": false,
      "title_cell": "Table of Contents",
      "title_sidebar": "Contents",
      "toc_cell": false,
      "toc_position": {},
      "toc_section_display": true,
      "toc_window_display": false
    },
    "varInspector": {
      "cols": {
        "lenName": 16,
        "lenType": 16,
        "lenVar": 40
      },
      "kernels_config": {
        "python": {
          "delete_cmd_postfix": "",
          "delete_cmd_prefix": "del ",
          "library": "var_list.py",
          "varRefreshCmd": "print(var_dic_list())"
        },
        "r": {
          "delete_cmd_postfix": ") ",
          "delete_cmd_prefix": "rm(",
          "library": "var_list.r",
          "varRefreshCmd": "cat(var_dic_list()) "
        }
      },
      "types_to_exclude": [
        "module",
        "function",
        "builtin_function_or_method",
        "instance",
        "_Feature"
      ],
      "window_display": false
    },
    "colab": {
      "provenance": [],
      "include_colab_link": true
    }
  },
  "nbformat": 4,
  "nbformat_minor": 5
}