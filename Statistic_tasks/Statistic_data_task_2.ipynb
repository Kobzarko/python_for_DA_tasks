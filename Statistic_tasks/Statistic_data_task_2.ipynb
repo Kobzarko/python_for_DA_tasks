{
 "cells": [
  {
   "cell_type": "markdown",
   "metadata": {},
   "source": [
    "1 В урні знаходиться 15 білих, 5 червоних і 10 чорних куль. \n",
    "\n",
    "Випадковим чином витягується 1 куля, знайти ймовірність того, що вона буде: а) білою, б) червоною, в) чорною."
   ]
  },
  {
   "cell_type": "code",
   "execution_count": 1,
   "metadata": {},
   "outputs": [
    {
     "name": "stdout",
     "output_type": "stream",
     "text": [
      "The probability of picking a black ball is 0.33\n",
      "The probability of picking a white ball is 0.5\n",
      "The probability of picking a red ball is 0.17\n"
     ]
    }
   ],
   "source": [
    "colors = {\n",
    "    'black': 10,\n",
    "    'white': 15,\n",
    "    'red': 5\n",
    "}\n",
    "\n",
    "def find_probability(colors):\n",
    "    total_balls = sum(colors.values())  # Підрахунок загальної кількості куль\n",
    "    for color, count in colors.items():\n",
    "        prob = round(count / total_balls, 2)  # Ймовірність для кожного кольору\n",
    "        print(f\"The probability of picking a {color} ball is {prob}\")\n",
    "\n",
    "find_probability(colors)\n"
   ]
  },
  {
   "cell_type": "markdown",
   "metadata": {},
   "source": [
    "2 В магазин надійшло 30 холодильників, п'ять з яких мають заводський дефект. Випадковим чином обирають один холодильник. Яка ймовірність того, що він буде без дефекту?"
   ]
  },
  {
   "cell_type": "code",
   "execution_count": 7,
   "metadata": {},
   "outputs": [
    {
     "data": {
      "text/plain": [
       "0.83"
      ]
     },
     "execution_count": 7,
     "metadata": {},
     "output_type": "execute_result"
    }
   ],
   "source": [
    "fridges = set(range(1,31))\n",
    "defect = set(range(1,6))\n",
    "\n",
    "P_no_defect = 1 - (len(defect)/len(fridges))\n",
    "round(P_no_defect,2)"
   ]
  },
  {
   "cell_type": "markdown",
   "metadata": {},
   "source": [
    "3 Набираючи номер телефону, абонент забув дві останні цифри, але пам'ятає, що одна з них — нуль, а інша — непарна. Знайти ймовірність того, що він набере правильний номер."
   ]
  },
  {
   "cell_type": "markdown",
   "metadata": {},
   "source": [
    "Використовуємо принцип незалежної ймовірності. так як у нас дві цифри, то варіантів пошуку теж два. Або 0 і непарна, або непарна і 0. \n",
    "$P(A×B)+P(B×A)=(0.1×0.5)+(0.5×0.1)=0.1.$"
   ]
  },
  {
   "cell_type": "code",
   "execution_count": 9,
   "metadata": {},
   "outputs": [
    {
     "name": "stdout",
     "output_type": "stream",
     "text": [
      "Probability of dialing the correct number is: 0.1\n"
     ]
    }
   ],
   "source": [
    "zero = 1 \n",
    "odd_nums = 5\n",
    "attempts = 10\n",
    "\n",
    "P_correct = (zero/attempts)*(odd_nums/attempts) + (odd_nums/attempts)*(zero/attempts)\n",
    "print(f\"Probability of dialing the correct number is: {P_correct}\")"
   ]
  },
  {
   "cell_type": "markdown",
   "metadata": {},
   "source": [
    "4. Знайти ймовірність того, що при кидку двох гральних кубиків добуток чисел на них:\n",
    "    \n",
    "    а) дорівнюватиме семи;\n",
    "\n",
    "    б) буде не меншим за 20;\n",
    "    \n",
    "    в) буде парним."
   ]
  },
  {
   "cell_type": "markdown",
   "metadata": {},
   "source": [
    "а) дорівнюватиме семи;\n",
    "\n",
    "Немає жодних комбінацій при якій добуток буде дорівнюватиме 7;\n"
   ]
  },
  {
   "cell_type": "markdown",
   "metadata": {},
   "source": [
    "б) буде не меншим за 20;\n",
    "\n",
    "`6×6=36` комбінацій.\n",
    "\n",
    "$P(добуток≥20)= 8/36 = 2/9 ≈0.22$\n"
   ]
  },
  {
   "cell_type": "code",
   "execution_count": 29,
   "metadata": {},
   "outputs": [
    {
     "name": "stdout",
     "output_type": "stream",
     "text": [
      "Probability of product >=20 is: 0.22\n"
     ]
    }
   ],
   "source": [
    "cub_1 = {1, 2, 3, 4, 5, 6}\n",
    "cub_2 = {1, 2, 3, 4, 5, 6}\n",
    "combs = 36\n",
    "# Обчислюємо добутки для кожної пари значень\n",
    "products = [(a * b) for a in cub_1 for b in cub_2]\n",
    "\n",
    "count = 0\n",
    "# Рахуємо кількість комбінацій з добутком >= 20\n",
    "for product in products:\n",
    "    if product >= 20:\n",
    "        count += 1\n",
    "\n",
    "# count 8 \n",
    "\n",
    "P_product = round(count/combs,2)\n",
    "print(f\"Probability of product >=20 is: {P_product}\")"
   ]
  },
  {
   "cell_type": "markdown",
   "metadata": {},
   "source": [
    "в) буде парним.\n",
    "\n",
    "Добуток буде парним, якщо хоча б один з чисел на кубиках парний. Парні числа на кубику: 2, 4, 6.\n",
    "\n",
    "Перевіряємо кількість комбінацій, де хоча б одне число парне.\n",
    "\n",
    "кількість сприятливих комбінацій: 27\n",
    "\n",
    "Ймовірність:\n",
    "\n",
    "$P(добуток == парне)= 27/36 = 3/4 ≈0.75$\n"
   ]
  },
  {
   "cell_type": "code",
   "execution_count": 37,
   "metadata": {},
   "outputs": [
    {
     "name": "stdout",
     "output_type": "stream",
     "text": [
      "Probability of the even product is: 0.75\n"
     ]
    }
   ],
   "source": [
    "cub_1 = {1, 2, 3, 4, 5, 6}\n",
    "cub_2 = {1, 2, 3, 4, 5, 6}\n",
    "combs = 36\n",
    "\n",
    "products = [(a * b) for a in cub_1 for b in cub_2]\n",
    "\n",
    "def odd_nums(nums):\n",
    "    even_list=[]\n",
    "    for num in nums:\n",
    "        if num % 2 == 0:\n",
    "            even_list.append(num)\n",
    "    return len(even_list) #27\n",
    "\n",
    "count_even = odd_nums(products)\n",
    "\n",
    "P_product_even = round(count_even/combs,2)\n",
    "print(f\"Probability of the even product is: {P_product_even}\") "
   ]
  },
  {
   "cell_type": "markdown",
   "metadata": {},
   "source": [
    "5 Ймовірність того, що на тесті з біології учень О. правильно розв'яже більше 11 задач, дорівнює 0,67. \n",
    "\n",
    "Ймовірність того, що О. правильно розв'яже більше 10 задач, дорівнює 0,74. \n",
    "\n",
    "Знайдіть ймовірність того, що О. правильно розв'яже рівно 11 задач."
   ]
  },
  {
   "cell_type": "markdown",
   "metadata": {},
   "source": [
    "Позначимо події:\n",
    "\n",
    "$𝑃(𝐴)$ — ймовірність того, що учень розв'яже більше 11 задач (це дорівнює 0,67).\n",
    "\n",
    "$P(B)$ — ймовірність того, що учень розв'яже більше 10 задач (це дорівнює 0,74).\n",
    "\n",
    "Потрібно знайти ймовірність того, що учень розв'яже рівно 11 задач.\n",
    "\n",
    "Пояснення:\n",
    "\n",
    "Подія, що учень розв'яже більше 10 задач, \n",
    "$𝑃(𝐵)$, включає в себе такі випадки:\n",
    "\n",
    "`𝑃(більше 11 задач)` — учень розв'язав більше 11 задач.\n",
    "\n",
    "`P(рівно 11 задач)` — учень розв'язав рівно 11 задач.\n",
    "\n",
    "Тому можемо записати рівняння:\n",
    "\n",
    "`𝑃(𝐵)=𝑃(𝐴)+𝑃(рівно 11 задач)`\n",
    "\n",
    "`P(B)=P(A)+P(рівно 11 задач)`\n",
    "\n",
    "Підставимо відомі значення:\n",
    "\n",
    "`0,74=0,67+𝑃(рівно 11 задач)0,74=0,67+P(рівно 11 задач)`\n",
    "\n",
    "Обчислюємо ймовірність того, що учень розв'яже рівно 11 задач:\n",
    "\n",
    "`𝑃(рівно 11 задач)=0,74−0,67=0,07`\n",
    "\n",
    "Висновок:\n",
    "\n",
    "Ймовірність того, що учень О. правильно розв'яже рівно 11 задач, дорівнює 0,07 або 7%."
   ]
  }
 ],
 "metadata": {
  "kernelspec": {
   "display_name": "Python 3",
   "language": "python",
   "name": "python3"
  },
  "language_info": {
   "codemirror_mode": {
    "name": "ipython",
    "version": 3
   },
   "file_extension": ".py",
   "mimetype": "text/x-python",
   "name": "python",
   "nbconvert_exporter": "python",
   "pygments_lexer": "ipython3",
   "version": "3.12.3"
  }
 },
 "nbformat": 4,
 "nbformat_minor": 2
}
