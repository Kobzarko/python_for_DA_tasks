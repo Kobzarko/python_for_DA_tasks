{
 "cells": [
  {
   "cell_type": "markdown",
   "metadata": {},
   "source": [
    "### Теорія"
   ]
  },
  {
   "cell_type": "markdown",
   "metadata": {},
   "source": [
    "Геометрична прогресія\n",
    "\n",
    "$Sn=b1 * q^n−1$, де \n",
    "\n",
    "`n`- порядковий номер члена прогресії,\n",
    "\n",
    "`b1`- перший член послідовності,\n",
    "\n",
    "`q`- знаменник.\n",
    "\n",
    "Сума геометричної прогресії\n",
    "\n",
    "$Sn = b1 · \t(1 - q^n)/ 1 - q$,  де \n",
    "\n",
    "`n`- кількість членів послідовності (порядковий номер),\n",
    "\n",
    "`b1`- перший член послідовності,\n",
    "\n",
    "`Sn`- n-ий член послідовності, \n",
    "\n",
    "`q`- знаменник.  \n",
    " \n",
    "Згенерований дохід\n",
    "\n",
    "$Rtotal = price * S1 * (1 - q**n) / 1 - q$\n",
    "\n",
    "`price `= 100\n",
    "\n",
    "`S1(subscribers)`= 500\n",
    "\n",
    "`q `= 0.9\n",
    "\n",
    "`n(period)` = 6\n",
    "\n",
    "`Rtotal = 100 * 500 * (1 - 0.9**6) / (1 - 0.9) = 234 * 10**3`\n",
    "\n"
   ]
  },
  {
   "cell_type": "markdown",
   "metadata": {},
   "source": [
    "### Задачі"
   ]
  },
  {
   "cell_type": "markdown",
   "metadata": {},
   "source": [
    "#### Задача 1"
   ]
  },
  {
   "cell_type": "markdown",
   "metadata": {},
   "source": [
    "Ви продакт-менеджер у компанії, яка займається мобільними додатками. Ваша\n",
    "модель монетизацї – це підписка.\n",
    "У травні 2019 року до вас приєдналося 100 підписникв, у червні – 150, у липні –\n",
    "170. Скільки ці користувачі принесли вам до моменту\n",
    "Травень 2021 року, якщо щомісячний відтік становить 5%, а підписка коштує 10\n",
    "доларів США?\n"
   ]
  },
  {
   "cell_type": "code",
   "execution_count": 85,
   "metadata": {},
   "outputs": [],
   "source": [
    "def calc_revenue(price, churn_rate, total_months, subscribers):\n",
    "    churn_rate = 1 - (churn_rate / 100)\n",
    "    total = price * subscribers * (1 - churn_rate**total_months)/(1 - churn_rate)\n",
    "    return round(total,2)"
   ]
  },
  {
   "cell_type": "code",
   "execution_count": 86,
   "metadata": {},
   "outputs": [],
   "source": [
    "price = 10\n",
    "churn_rate = 5\n",
    "total_months = 24\n",
    "#загальна кількість підписників\n",
    "subscribers = 420"
   ]
  },
  {
   "cell_type": "code",
   "execution_count": 87,
   "metadata": {},
   "outputs": [
    {
     "name": "stdout",
     "output_type": "stream",
     "text": [
      "Загальний дохід: $59472.92\n"
     ]
    }
   ],
   "source": [
    "result = calc_revenue(price, churn_rate, total_months, subscribers)\n",
    "print(f\"Загальний дохід: ${result}\")"
   ]
  },
  {
   "cell_type": "markdown",
   "metadata": {},
   "source": [
    "У цій задачі ми використовуємо суму геометричної прогресії $Sn = b1 * (1 - q^n)/ 1 - q$, для знаходження загального прибутку за період 24 місяці. Так як підписка зменшується кожен місяць на 5% отримаємо коефіцєнт 0,95 та возведемо у ступінь нашого періоду. Отримаємо такий вираз:\n",
    "\n",
    "`Rtotal = 10 * 420 * (1 - 0.95^24)/(1 - 0.95)`\n",
    "\n",
    "Порахуємо те що в дужках, потім верхню частину, а потім розділимо на результат нашого знаменника. Округлимо до сотих.\n",
    "\n",
    "Загальний дохід: $59472.92"
   ]
  },
  {
   "cell_type": "markdown",
   "metadata": {},
   "source": [
    "#### Задача 2"
   ]
  },
  {
   "cell_type": "markdown",
   "metadata": {},
   "source": [
    "Ви — менеджер по роботі з продуктом в компанії, яка розробляє мобільні ігри. Вашою метою є збільшення кількості активних користувачів. У січні 2020 року у вас було 2000 активних користувачів. З лютого кількість активних користувачів щомісяця зростає на 3%. У той же час, 2% користувачів щомісяця перестають користуватися додатком. Якою буде кількість активних користувачів у грудні 2021 року?"
   ]
  },
  {
   "cell_type": "code",
   "execution_count": 107,
   "metadata": {},
   "outputs": [],
   "source": [
    "subscribers =2000\n",
    "churn_rate = 1\n",
    "total_months = 24"
   ]
  },
  {
   "cell_type": "code",
   "execution_count": 111,
   "metadata": {},
   "outputs": [],
   "source": [
    "def total_subscribers( churn_rate, subscribers, total_months=1):\n",
    "    churn_rate = churn_rate / 100\n",
    "    # Sn=b1 * q**n−1\n",
    "    if total_months > 1:\n",
    "        total = subscribers * ((1 + churn_rate)**(total_months - 1))\n",
    "    else:\n",
    "        total = subscribers * ((1 + churn_rate)**total_months)\n",
    "    return round(total)"
   ]
  },
  {
   "cell_type": "code",
   "execution_count": 109,
   "metadata": {},
   "outputs": [
    {
     "name": "stdout",
     "output_type": "stream",
     "text": [
      "Активні користувачі: 2514\n"
     ]
    }
   ],
   "source": [
    "result = total_subscribers(churn_rate, subscribers, total_months, )\n",
    "print(f\"Активні користувачі: {result}\")"
   ]
  },
  {
   "cell_type": "markdown",
   "metadata": {},
   "source": [
    "За геометричною прогресією $Sn=s1 * q^n−1$ знаходимо кількість користувачів у грудні 2021 році. Кожного місяця додається 1% користувачів, а за весь період отримаємо коефіцієнт 1,25. Помножемо на початкове значення користувачів та отримаємо відповідь 2514 користувачів."
   ]
  },
  {
   "cell_type": "markdown",
   "metadata": {},
   "source": [
    "#### Задача 3"
   ]
  },
  {
   "cell_type": "markdown",
   "metadata": {},
   "source": [
    "Ви — менеджер з розвитку бізнесу в компанії, що займається створенням платформи для онлайн-курсів. У січні 2021 року ви залучили 500 нових користувачів. У лютому кількість нових користувачів зросла на 50%, у березні — ще на 20%. З квітня приріст нових користувачів стабілізувався на рівні 10% щомісяця. Скільки нових користувачів ви залучили загалом за перше півріччя 2021 року?"
   ]
  },
  {
   "cell_type": "code",
   "execution_count": 120,
   "metadata": {},
   "outputs": [],
   "source": [
    "subscribers =500\n",
    "churn_rate_1 = 50\n",
    "churn_rate_2 = 20\n",
    "churn_rate_3 = 10\n",
    "total_months = 3"
   ]
  },
  {
   "cell_type": "code",
   "execution_count": 124,
   "metadata": {},
   "outputs": [
    {
     "data": {
      "text/plain": [
       "750"
      ]
     },
     "metadata": {},
     "output_type": "display_data"
    },
    {
     "data": {
      "text/plain": [
       "900"
      ]
     },
     "metadata": {},
     "output_type": "display_data"
    },
    {
     "data": {
      "text/plain": [
       "1089"
      ]
     },
     "metadata": {},
     "output_type": "display_data"
    }
   ],
   "source": [
    "feb_users = total_subscribers(churn_rate_1, subscribers)\n",
    "march_users = total_subscribers(churn_rate_2, feb_users)\n",
    "other_users = total_subscribers(churn_rate_3, march_users, total_months)\n",
    "display(feb_users,march_users,other_users)"
   ]
  },
  {
   "cell_type": "markdown",
   "metadata": {},
   "source": [
    "У третьому завданні обчислень більше за рахунок різного коефіцієнту. Спочатку нам потрібно обчислити лютий місяць +50%, потім березень +20%, а потім вже за геометричною прогресією обчислюємо останні три місяці по 10%. У перших двох обчисленнях ми не можемо скористатись геометричною прогресією, так як `n` з формули $Sn=s1 * q^n−1$ дорівнює одиниці,це повертає нам нульову ступінь, тобто коефіцієнт буде дорівнювати одиниці. Тому підправив трошки функцію total_subscribers. Результат 1089 користувачів за перше півріччя 2021 року."
   ]
  }
 ],
 "metadata": {
  "kernelspec": {
   "display_name": "Python 3",
   "language": "python",
   "name": "python3"
  },
  "language_info": {
   "codemirror_mode": {
    "name": "ipython",
    "version": 3
   },
   "file_extension": ".py",
   "mimetype": "text/x-python",
   "name": "python",
   "nbconvert_exporter": "python",
   "pygments_lexer": "ipython3",
   "version": "3.12.3"
  }
 },
 "nbformat": 4,
 "nbformat_minor": 2
}
