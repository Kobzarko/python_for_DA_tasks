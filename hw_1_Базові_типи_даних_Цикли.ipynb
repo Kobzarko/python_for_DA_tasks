{
  "cells": [
    {
      "cell_type": "markdown",
      "metadata": {
        "id": "view-in-github",
        "colab_type": "text"
      },
      "source": [
        "<a href=\"https://colab.research.google.com/github/Kobzarko/python_for_DA_tasks/blob/main/hw_1_%D0%91%D0%B0%D0%B7%D0%BE%D0%B2%D1%96_%D1%82%D0%B8%D0%BF%D0%B8_%D0%B4%D0%B0%D0%BD%D0%B8%D1%85_%D0%A6%D0%B8%D0%BA%D0%BB%D0%B8.ipynb\" target=\"_parent\"><img src=\"https://colab.research.google.com/assets/colab-badge.svg\" alt=\"Open In Colab\"/></a>"
      ]
    },
    {
      "cell_type": "markdown",
      "id": "5b1cae7d",
      "metadata": {
        "id": "5b1cae7d"
      },
      "source": [
        "1.Задане значення у змінній var. Перетворіть значення в змінній var на цілочисельне, запишіть в нову змінну `var_int` та виведіть тип нової змінної `var_int`."
      ]
    },
    {
      "cell_type": "code",
      "execution_count": 2,
      "id": "d93f77ed",
      "metadata": {
        "ExecuteTime": {
          "end_time": "2023-06-13T11:52:35.489925Z",
          "start_time": "2023-06-13T11:52:35.487238Z"
        },
        "id": "d93f77ed"
      },
      "outputs": [],
      "source": [
        "var = '1224'"
      ]
    },
    {
      "cell_type": "code",
      "execution_count": 3,
      "id": "5a4afe8f",
      "metadata": {
        "id": "5a4afe8f",
        "colab": {
          "base_uri": "https://localhost:8080/"
        },
        "outputId": "cd95ad04-70bd-47af-e0be-9a1413c340e0"
      },
      "outputs": [
        {
          "output_type": "stream",
          "name": "stdout",
          "text": [
            "<class 'int'>\n"
          ]
        },
        {
          "output_type": "execute_result",
          "data": {
            "text/plain": [
              "1224"
            ]
          },
          "metadata": {},
          "execution_count": 3
        }
      ],
      "source": [
        "var_int = int(var)\n",
        "print(type(var_int))\n",
        "var_int"
      ]
    },
    {
      "cell_type": "markdown",
      "id": "eb3d19d8",
      "metadata": {
        "ExecuteTime": {
          "end_time": "2023-06-13T13:00:19.611699Z",
          "start_time": "2023-06-13T13:00:19.607737Z"
        },
        "id": "eb3d19d8"
      },
      "source": [
        "2.У Вас є список слів. Виведіть кожне третє слово в списку."
      ]
    },
    {
      "cell_type": "code",
      "execution_count": 4,
      "id": "477f4ced",
      "metadata": {
        "ExecuteTime": {
          "end_time": "2023-06-13T13:00:02.052801Z",
          "start_time": "2023-06-13T13:00:02.048798Z"
        },
        "id": "477f4ced"
      },
      "outputs": [],
      "source": [
        "words = [\"apple\", \"banana\", \"cherry\", \"date\", \"elderberry\", \"fig\", \"grape\", \"honeydew\", \"ice cream\", \"jackfruit\", \"kiwi\", \"lemon\", \"mango\", \"nectarine\", \"orange\", \"pineapple\", \"quince\", \"raspberry\", \"strawberry\", \"tangerine\", \"ugli fruit\", \"vanilla\", \"watermelon\", \"xigua\", \"yam\", \"zucchini\"]"
      ]
    },
    {
      "cell_type": "code",
      "execution_count": 5,
      "id": "1b73ca2f",
      "metadata": {
        "id": "1b73ca2f",
        "colab": {
          "base_uri": "https://localhost:8080/"
        },
        "outputId": "e63c6634-a0b5-4d46-9a39-975b518b3ea3"
      },
      "outputs": [
        {
          "output_type": "stream",
          "name": "stdout",
          "text": [
            "['cherry', 'fig', 'ice cream', 'lemon', 'orange', 'raspberry', 'ugli fruit', 'xigua']\n"
          ]
        }
      ],
      "source": [
        "every_third_word = words[2::3]\n",
        "print(every_third_word)"
      ]
    },
    {
      "cell_type": "markdown",
      "id": "394d1dea",
      "metadata": {
        "id": "394d1dea"
      },
      "source": [
        "3.Скільки всього СЛІВ у списку `words`?"
      ]
    },
    {
      "cell_type": "code",
      "execution_count": 6,
      "id": "83c88182",
      "metadata": {
        "id": "83c88182",
        "colab": {
          "base_uri": "https://localhost:8080/"
        },
        "outputId": "c4656fcd-84cb-49a7-d37e-1b7fbac1dd90"
      },
      "outputs": [
        {
          "output_type": "stream",
          "name": "stdout",
          "text": [
            "26\n"
          ]
        }
      ],
      "source": [
        "print(len(words))"
      ]
    },
    {
      "cell_type": "markdown",
      "id": "703d1620",
      "metadata": {
        "ExecuteTime": {
          "end_time": "2023-06-13T13:03:17.414285Z",
          "start_time": "2023-06-13T13:03:17.409285Z"
        },
        "id": "703d1620"
      },
      "source": [
        "4.Скільки всього ЛІТЕР в усіх словах у списку words?"
      ]
    },
    {
      "cell_type": "code",
      "execution_count": 7,
      "id": "c44d04d9",
      "metadata": {
        "id": "c44d04d9",
        "colab": {
          "base_uri": "https://localhost:8080/"
        },
        "outputId": "34ef22ce-c914-48c4-a935-c43dbd784c87"
      },
      "outputs": [
        {
          "output_type": "stream",
          "name": "stdout",
          "text": [
            "Загальна кількість літер в усіх словах: 178\n"
          ]
        }
      ],
      "source": [
        "\n",
        "total_letters = sum(len(word.replace(\" \", \"\")) for word in words)\n",
        "\n",
        "print(f\"Загальна кількість літер в усіх словах: {total_letters}\")"
      ]
    },
    {
      "cell_type": "markdown",
      "id": "4c95f6a3",
      "metadata": {
        "id": "4c95f6a3"
      },
      "source": [
        "5.Скільки разів зустрічається кожна літера в усіх словах списку `words`? Відсортуйте літери в результуючому словнику за алфавітним порядком."
      ]
    },
    {
      "cell_type": "code",
      "execution_count": 10,
      "id": "f6cff6cb",
      "metadata": {
        "id": "f6cff6cb",
        "colab": {
          "base_uri": "https://localhost:8080/"
        },
        "outputId": "bb3de504-7928-4fb7-84bc-f8123d93b54a"
      },
      "outputs": [
        {
          "output_type": "execute_result",
          "data": {
            "text/plain": [
              "{' ': 2,\n",
              " 'a': 20,\n",
              " 'b': 4,\n",
              " 'c': 8,\n",
              " 'd': 3,\n",
              " 'e': 24,\n",
              " 'f': 3,\n",
              " 'g': 7,\n",
              " 'h': 3,\n",
              " 'i': 15,\n",
              " 'j': 1,\n",
              " 'k': 2,\n",
              " 'l': 8,\n",
              " 'm': 5,\n",
              " 'n': 15,\n",
              " 'o': 5,\n",
              " 'p': 7,\n",
              " 'q': 1,\n",
              " 'r': 19,\n",
              " 's': 2,\n",
              " 't': 7,\n",
              " 'u': 6,\n",
              " 'v': 1,\n",
              " 'w': 4,\n",
              " 'x': 1,\n",
              " 'y': 6,\n",
              " 'z': 1}"
            ]
          },
          "metadata": {},
          "execution_count": 10
        }
      ],
      "source": [
        "count_letters = {}\n",
        "\n",
        "for word in words:\n",
        "  for letter in word:\n",
        "      if letter not in count_letters:\n",
        "        count_letters[letter] = 1\n",
        "      else:\n",
        "        count_letters[letter] += 1\n",
        "\n",
        "count_letters = dict(sorted(count_letters.items()))\n",
        "\n",
        "count_letters"
      ]
    },
    {
      "cell_type": "markdown",
      "id": "94d9f1cc",
      "metadata": {
        "id": "94d9f1cc"
      },
      "source": [
        "Очікуваний результат:\n",
        "```\n",
        "{' ': 2,\n",
        " 'a': 20,\n",
        " 'b': 4,\n",
        " 'c': 8,\n",
        " 'd': 3,\n",
        " 'e': 24,\n",
        " 'f': 3,\n",
        " 'g': 7,\n",
        " 'h': 3,\n",
        " 'i': 15,\n",
        " 'j': 1,\n",
        " 'k': 2,\n",
        " 'l': 8,\n",
        " 'm': 5,\n",
        " 'n': 15,\n",
        " 'o': 5,\n",
        " 'p': 7,\n",
        " 'q': 1,\n",
        " 'r': 19,\n",
        " 's': 2,\n",
        " 't': 7,\n",
        " 'u': 6,\n",
        " 'v': 1,\n",
        " 'w': 4,\n",
        " 'x': 1,\n",
        " 'y': 6,\n",
        " 'z': 1}\n",
        " ```"
      ]
    },
    {
      "cell_type": "markdown",
      "id": "c93ac384",
      "metadata": {
        "id": "c93ac384"
      },
      "source": [
        "6.Використовуючи результат виконання попереднього завдання, виведіть на екран ту літеру, яка зустрічається найчастіше і скільки разів вона зустрічається. Це треба зробити програмно, а не просто подививщись на дані :)"
      ]
    },
    {
      "cell_type": "code",
      "execution_count": 11,
      "id": "9ddfb851",
      "metadata": {
        "id": "9ddfb851",
        "colab": {
          "base_uri": "https://localhost:8080/"
        },
        "outputId": "2327167b-ba35-4417-87dc-a7725c503e02"
      },
      "outputs": [
        {
          "output_type": "stream",
          "name": "stdout",
          "text": [
            "Max letter is e and max number is 24\n"
          ]
        }
      ],
      "source": [
        "max_letter = max(count_letters, key=count_letters.get)\n",
        "max_count = count_letters[max_letter]\n",
        "\n",
        "print(f\"Max letter is {max_letter} and max number is {max_count}\")\n",
        "\n"
      ]
    },
    {
      "cell_type": "markdown",
      "id": "f40adbed",
      "metadata": {
        "id": "f40adbed"
      },
      "source": [
        "7.Для кожного елементу списку виведіть тип елемену. Якщо тип обʼєкту - int (тільки цей тип безпосередньо!), виведіть результат піднесення цього числа до степеню 5."
      ]
    },
    {
      "cell_type": "code",
      "execution_count": 12,
      "id": "f92249ac",
      "metadata": {
        "ExecuteTime": {
          "end_time": "2023-06-13T12:53:04.365735Z",
          "start_time": "2023-06-13T12:53:04.362441Z"
        },
        "id": "f92249ac"
      },
      "outputs": [],
      "source": [
        "elements = [12, 'type', 'Bob', True, 'False', 1.414, 1444.333, 123/33, 5]"
      ]
    },
    {
      "cell_type": "code",
      "execution_count": 18,
      "id": "96b72186",
      "metadata": {
        "id": "96b72186",
        "colab": {
          "base_uri": "https://localhost:8080/"
        },
        "outputId": "1c23c411-9c93-4f1f-9c1c-21f3f3067b9b"
      },
      "outputs": [
        {
          "output_type": "stream",
          "name": "stdout",
          "text": [
            "The type of element 12 is <class 'int'>\n",
            "This is a number! Let's take it to power 5! The result is: 248832\n",
            "The type of element type is <class 'str'>\n",
            "The type of element Bob is <class 'str'>\n",
            "The type of element True is <class 'bool'>\n",
            "This is a number! Let's take it to power 5! The result is: 1\n",
            "The type of element False is <class 'str'>\n",
            "The type of element 1.414 is <class 'float'>\n",
            "The type of element 1444.333 is <class 'float'>\n",
            "The type of element 3.727272727272727 is <class 'float'>\n",
            "The type of element 5 is <class 'int'>\n",
            "This is a number! Let's take it to power 5! The result is: 3125\n"
          ]
        }
      ],
      "source": [
        "result_int = [f\"The type of element {elem} is {type(elem)}\\nThis is a number! Let's take it to power 5! The result is: {elem **5}\" if isinstance(elem, int) else f\"The type of element {elem} is {type(elem)}\" for elem in elements]\n",
        "\n",
        "for elem in result_int:\n",
        "  print(elem)"
      ]
    },
    {
      "cell_type": "markdown",
      "id": "cf2247c7",
      "metadata": {
        "ExecuteTime": {
          "end_time": "2023-06-13T12:55:17.795510Z",
          "start_time": "2023-06-13T12:55:17.787158Z"
        },
        "id": "cf2247c7"
      },
      "source": [
        "Приклад очікуваного результату (текстові коментарі і форматування можуть бути іншими):\n",
        "```\n",
        "    The type of element 12 is <class 'int'>\n",
        "    This is a number! Let't take it to power 5! The result is: 248832\n",
        "    The type of element type is <class 'str'>\n",
        "    The type of element Bob is <class 'str'>\n",
        "    The type of element True is <class 'bool'>\n",
        "    The type of element False is <class 'str'>\n",
        "    The type of element 1.414 is <class 'float'>\n",
        "    The type of element 1444.333 is <class 'float'>\n",
        "    The type of element 3.727272727272727 is <class 'float'>\n",
        "    The type of element 5 is <class 'int'>\n",
        "    This is a number! Let't take it to power 5! The result is: 3125\n",
        "```"
      ]
    },
    {
      "cell_type": "markdown",
      "id": "76a0bef2",
      "metadata": {
        "id": "76a0bef2"
      },
      "source": [
        "8.Створіть програму, яка:\n",
        "\n",
        "- Для визначених значень `name` та `age` друкує повідомлення \"Привіт, [Ім’я] ! Вам [Вік] років.\".\n",
        "- Обчислює, скільки років залишилося користувачеві до 100 років, і друкує повідомлення з цією інформацією: \"До 100 років Вам лишилось [Число] років.\"  \n",
        "\n",
        "Запустіть програму для набору користувачів нижче."
      ]
    },
    {
      "cell_type": "code",
      "execution_count": 19,
      "id": "0092963a",
      "metadata": {
        "ExecuteTime": {
          "end_time": "2023-06-13T12:30:11.462941Z",
          "start_time": "2023-06-13T12:30:11.459673Z"
        },
        "id": "0092963a"
      },
      "outputs": [],
      "source": [
        "users = [\n",
        "    ['Karl', 30],\n",
        "    ['Klara', 15],\n",
        "    ['Alexis', 56],\n",
        "    ['Charles', 99]\n",
        "]"
      ]
    },
    {
      "cell_type": "code",
      "execution_count": 36,
      "id": "8d6d820e",
      "metadata": {
        "id": "8d6d820e",
        "colab": {
          "base_uri": "https://localhost:8080/"
        },
        "outputId": "79b1e785-0cef-4ada-e7e8-a64fa0c6f564"
      },
      "outputs": [
        {
          "output_type": "stream",
          "name": "stdout",
          "text": [
            "Привіт, Karl! Вам 30 років. До 100 років Вам лишилось 70 років.\n",
            "Привіт, Klara! Вам 15 років. До 100 років Вам лишилось 85 років.\n",
            "Привіт, Alexis! Вам 56 років. До 100 років Вам лишилось 44 років.\n",
            "Привіт, Charles! Вам 99 років. До 100 років Вам лишилось 1 років.\n"
          ]
        }
      ],
      "source": [
        "def calculate_age(*args):\n",
        "\n",
        "  for items in args:\n",
        "    if isinstance(items, list):\n",
        "      for item in items:\n",
        "       print(f\"Привіт, {item[0]}! Вам {item[1]} років. До 100 років Вам лишилось {100 - item[1]} років.\")\n",
        "\n",
        "\n",
        "calculate_age(users)\n"
      ]
    },
    {
      "cell_type": "markdown",
      "id": "45fedbc4",
      "metadata": {
        "id": "45fedbc4"
      },
      "source": [
        "9.Напишть фрагмент коду, який перевіряє, чи слово є паліндромом. Слово (або фраза) є паліндромом, якщо при читанні його зворотньому напрямі буде таке саме слово.\n",
        "Наприклад, слово \"radar\" є паліндромом, але \"radix\" не є паліндромом. Код в кінці має видавати результат True або False.  \n",
        "Код має звертати увагу лише на символи-літери. Регістр літер не має значення, а знаки пунктуації (кома, крапка) та `-+=/\\`` мають бути вилучені з рядка перед перевіркою. Так само, пробіли не впливають на визначення,чи слово є палендромом. Мають значення лише літери.\n",
        "Тобто рядки \"A mam, a\" та \"A mamA\" є паліндромами, а \"AmamU\" - ні.\n",
        "\n",
        "Опціонально ви можете розмістити код на перевірку чи є слово паліндромом у фукнцію.\n",
        "Запустіть свій код для рядків з набору нижче і виведіть результат перевірки на екран для кожного рядка."
      ]
    },
    {
      "cell_type": "code",
      "execution_count": 1,
      "id": "4cca3eed",
      "metadata": {
        "ExecuteTime": {
          "end_time": "2023-06-13T12:24:02.288183Z",
          "start_time": "2023-06-13T12:24:02.285245Z"
        },
        "id": "4cca3eed"
      },
      "outputs": [],
      "source": [
        "phrases_to_check = [\n",
        "    'radar',\n",
        "    'radix',\n",
        "    'A mam, a',\n",
        "    'A mamA',\n",
        "    'Sit on a potato pan Otis',\n",
        "    'Taco cat.',\n",
        "    'Taco cat',\n",
        "    'Tornado',\n",
        "    \"Go hang a salami, I'm a lasagna hog.\"\n",
        "]"
      ]
    },
    {
      "cell_type": "code",
      "execution_count": 3,
      "id": "becbec3c",
      "metadata": {
        "id": "becbec3c",
        "colab": {
          "base_uri": "https://localhost:8080/"
        },
        "outputId": "bb3070ae-6f99-4088-ba0c-9c679d972ad0"
      },
      "outputs": [
        {
          "output_type": "stream",
          "name": "stdout",
          "text": [
            "radar - True\n",
            "radix - False\n",
            "A mam, a - True\n",
            "A mamA - True\n",
            "Sit on a potato pan Otis - True\n",
            "Taco cat. - True\n",
            "Taco cat - True\n",
            "Tornado - False\n",
            "Go hang a salami, I'm a lasagna hog. - True\n"
          ]
        }
      ],
      "source": [
        "def isPalindrome(phrase):\n",
        "    check_phrase = ''\n",
        "    for letter in phrase:\n",
        "        if letter.isalpha():\n",
        "            check_phrase += letter.lower()\n",
        "    return check_phrase == check_phrase[::-1]\n",
        "\n",
        "# Другий варіант\n",
        "# def isPalindrome(phrase):\n",
        "#     # Вибираємо лише літери і переводимо їх у нижній регістр\n",
        "#     check_phrase = ''.join([letter.lower() for letter in phrase if letter.isalpha()])\n",
        "#     # Порівнюємо зі зворотнім порядком символів\n",
        "#     return check_phrase == check_phrase[::-1]\n",
        "\n",
        "for phrase in phrases_to_check:\n",
        "    print(f\"{phrase} - {isPalindrome(phrase)}\")"
      ]
    },
    {
      "cell_type": "markdown",
      "id": "e51c421d",
      "metadata": {
        "id": "e51c421d"
      },
      "source": [
        "Очкувані результати обчислень:\n",
        "```\n",
        "    radar - True\n",
        "    radix - False\n",
        "    A mam, a - True\n",
        "    A mamA - True\n",
        "    Sit on a potato pan Otis - True\n",
        "    Taco cat. - True\n",
        "    Taco cat - True\n",
        "    Tornado - False\n",
        "    Go hang a salami, I'm a lasagna hog. - True\n",
        "```"
      ]
    }
  ],
  "metadata": {
    "kernelspec": {
      "display_name": "Python 3 (ipykernel)",
      "language": "python",
      "name": "python3"
    },
    "language_info": {
      "codemirror_mode": {
        "name": "ipython",
        "version": 3
      },
      "file_extension": ".py",
      "mimetype": "text/x-python",
      "name": "python",
      "nbconvert_exporter": "python",
      "pygments_lexer": "ipython3",
      "version": "3.10.4"
    },
    "toc": {
      "base_numbering": 1,
      "nav_menu": {},
      "number_sections": true,
      "sideBar": true,
      "skip_h1_title": false,
      "title_cell": "Table of Contents",
      "title_sidebar": "Contents",
      "toc_cell": false,
      "toc_position": {},
      "toc_section_display": true,
      "toc_window_display": false
    },
    "colab": {
      "provenance": [],
      "include_colab_link": true
    }
  },
  "nbformat": 4,
  "nbformat_minor": 5
}