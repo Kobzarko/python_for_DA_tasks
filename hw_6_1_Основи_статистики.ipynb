{
  "nbformat": 4,
  "nbformat_minor": 0,
  "metadata": {
    "colab": {
      "provenance": [],
      "include_colab_link": true
    },
    "kernelspec": {
      "name": "python3",
      "display_name": "Python 3"
    },
    "language_info": {
      "name": "python"
    }
  },
  "cells": [
    {
      "cell_type": "markdown",
      "metadata": {
        "id": "view-in-github",
        "colab_type": "text"
      },
      "source": [
        "<a href=\"https://colab.research.google.com/github/Kobzarko/python_for_DA_tasks/blob/statistic_branch/hw_6_1_%D0%9E%D1%81%D0%BD%D0%BE%D0%B2%D0%B8_%D1%81%D1%82%D0%B0%D1%82%D0%B8%D1%81%D1%82%D0%B8%D0%BA%D0%B8.ipynb\" target=\"_parent\"><img src=\"https://colab.research.google.com/assets/colab-badge.svg\" alt=\"Open In Colab\"/></a>"
      ]
    },
    {
      "cell_type": "markdown",
      "source": [
        "В цьому домашньому завданні відпрацюємо з вами знання, отримані в модулі зі статистики.\n",
        "\n",
        "**Завдання 1.** Ми обговорили з Вами на лекції, що велика літера Сігма грецького алфавіту позначає в математиці суму. Знайдіть з використанням Python $\\Sigma x$, $\\Sigma x^2$, та $\\Sigma (x-1)^2$ для наступного набору даних:\n",
        "`1 3 4`\n",
        "Виведіть результат кожного обчислення на екран."
      ],
      "metadata": {
        "id": "SDhaTqxcWhnP"
      }
    },
    {
      "cell_type": "code",
      "source": [
        "import numpy as np\n",
        "\n",
        "# Набір даних\n",
        "data = np.array([1, 3, 4])\n",
        "\n",
        "# Σx (сума всіх елементів)\n",
        "sum_x = np.sum(data)\n",
        "\n",
        "# Σx^2 (сума квадратів всіх елементів)\n",
        "sum_x2 = np.sum(data**2)\n",
        "\n",
        "# Σ(x - 1)^2 (сума квадратів відхилень елементів від 1)\n",
        "sum_x_minus_1_squared = np.sum((data - 1)**2)\n",
        "\n",
        "sum_x, sum_x2, sum_x_minus_1_squared\n"
      ],
      "metadata": {
        "id": "B1mgx_IBT0e8",
        "colab": {
          "base_uri": "https://localhost:8080/"
        },
        "outputId": "6a213d17-2215-4e6f-b015-89d3b80e9eb1"
      },
      "execution_count": 1,
      "outputs": [
        {
          "output_type": "execute_result",
          "data": {
            "text/plain": [
              "(8, 26, 13)"
            ]
          },
          "metadata": {},
          "execution_count": 1
        }
      ]
    },
    {
      "cell_type": "markdown",
      "source": [
        "**Завдання 2.** Ми зібрали дані про суму покупок в гривнях 20ма випадково обраними клієнтами в нашому магазині (всього клієнтів у нас більше) за минулий місяць. Вони представлені в змінній `sum_purchases`. Знайдіть **вибіркове середнє** для цих даних кожним з зазначених методів:   \n",
        "\n",
        "  2.1. без використання жодних бібліотек, користуючись тільки Python.  \n",
        "  2.2. використовуючи відповідний метод бібліотеки `numpy`.\n",
        "\n",
        "  Виведіть результат обчислень в кожному з випадків на екран та порівняйте результати. Вони співпадають?"
      ],
      "metadata": {
        "id": "fa78aW5lhiia"
      }
    },
    {
      "cell_type": "code",
      "execution_count": 2,
      "metadata": {
        "id": "_9kMt3rq6V5m"
      },
      "outputs": [],
      "source": [
        "sum_purchases = [ 316,  493,  367,  153,  224,  121,  322,  450,  196,  397,  281,\n",
        "  239,  484,  124,  223,  448,  432,  255, 4310, 3524]"
      ]
    },
    {
      "cell_type": "code",
      "source": [
        "n_x = len(sum_purchases)\n",
        "mean_x = sum(sum_purchases)/n_x\n",
        "mean_x"
      ],
      "metadata": {
        "id": "wPmL919HT1c0",
        "colab": {
          "base_uri": "https://localhost:8080/"
        },
        "outputId": "0e052050-e5ba-4770-c580-03dd2e0e2861"
      },
      "execution_count": 3,
      "outputs": [
        {
          "output_type": "execute_result",
          "data": {
            "text/plain": [
              "667.95"
            ]
          },
          "metadata": {},
          "execution_count": 3
        }
      ]
    },
    {
      "cell_type": "code",
      "source": [
        "np.mean(sum_purchases)"
      ],
      "metadata": {
        "colab": {
          "base_uri": "https://localhost:8080/"
        },
        "id": "KmP5CsNS7v0u",
        "outputId": "921a6f05-54c4-4200-9878-40859ad50e83"
      },
      "execution_count": 4,
      "outputs": [
        {
          "output_type": "execute_result",
          "data": {
            "text/plain": [
              "667.95"
            ]
          },
          "metadata": {},
          "execution_count": 4
        }
      ]
    },
    {
      "cell_type": "markdown",
      "source": [
        "**Завдання 3.** Для того ж набору даних в змінній `sum_purchases` обчисліть **медіану** кожним з зазначених методів:  \n",
        "\n",
        "  3.1. без використання жодних бібліотек, користуючись тільки Python.  \n",
        "  3.2. використовуючи відповідний метод бібліотеки numpy.  \n",
        "\n",
        "Виведіть результат обчислень в кожному з випадків на екран. Порівняйте результати зі значенням вибіркового середнього. Напишіть коментар, для яких задач ви б використовували вибіркове середнє, а для яких - медіану?"
      ],
      "metadata": {
        "id": "FMdoxZd0kZdW"
      }
    },
    {
      "cell_type": "code",
      "source": [
        "print(sorted(sum_purchases))"
      ],
      "metadata": {
        "id": "x58BumvuT2nl",
        "colab": {
          "base_uri": "https://localhost:8080/"
        },
        "outputId": "28115d32-dbe2-4fae-a3b3-b83d12bd533f"
      },
      "execution_count": 5,
      "outputs": [
        {
          "output_type": "stream",
          "name": "stdout",
          "text": [
            "[121, 124, 153, 196, 223, 224, 239, 255, 281, 316, 322, 367, 397, 432, 448, 450, 484, 493, 3524, 4310]\n"
          ]
        }
      ]
    },
    {
      "cell_type": "code",
      "source": [
        "def find_median(data):\n",
        "    # Сортуємо список\n",
        "    sorted_data = sorted(data)\n",
        "    n = len(sorted_data)\n",
        "\n",
        "    # Перевіряємо, чи кількість елементів парна\n",
        "    if n % 2 == 1:\n",
        "        # Непарна кількість елементів — медіана середній елемент\n",
        "        median = sorted_data[n // 2]\n",
        "    else:\n",
        "        # Парна кількість елементів — медіана середнє двох центральних елементів\n",
        "        median = (sorted_data[n // 2 - 1] + sorted_data[n // 2]) / 2\n",
        "\n",
        "    return median\n"
      ],
      "metadata": {
        "id": "3K-dDdRdL-n1"
      },
      "execution_count": 6,
      "outputs": []
    },
    {
      "cell_type": "code",
      "source": [
        "mediana = find_median(sum_purchases)\n",
        "mediana"
      ],
      "metadata": {
        "colab": {
          "base_uri": "https://localhost:8080/"
        },
        "id": "1iTNJFyA_wKs",
        "outputId": "74be1c89-b777-429f-b047-442823dd6b93"
      },
      "execution_count": 7,
      "outputs": [
        {
          "output_type": "execute_result",
          "data": {
            "text/plain": [
              "319.0"
            ]
          },
          "metadata": {},
          "execution_count": 7
        }
      ]
    },
    {
      "cell_type": "code",
      "source": [
        "median_np = np.median(sum_purchases)\n",
        "median_np"
      ],
      "metadata": {
        "colab": {
          "base_uri": "https://localhost:8080/"
        },
        "id": "kr0m4py7Ani-",
        "outputId": "b61c3341-d6ad-4f68-e57c-b66cafabc56a"
      },
      "execution_count": 8,
      "outputs": [
        {
          "output_type": "execute_result",
          "data": {
            "text/plain": [
              "319.0"
            ]
          },
          "metadata": {},
          "execution_count": 8
        }
      ]
    },
    {
      "cell_type": "markdown",
      "source": [
        "**Завдання 4**. Обчислість стандартне відхилення наведеної вибірки в змінній `sum_purchases` кожним з зазначених методів:  \n",
        "\n",
        "  4.1. без використання жодних бібліотек, користуючись тільки Python.  \n",
        "  4.2. використовуючи відповідний метод бібліотеки numpy.  \n",
        "\n",
        "Виведіть результат обчислень в кожному з випадків на екран."
      ],
      "metadata": {
        "id": "o1Z7az2yNDQV"
      }
    },
    {
      "cell_type": "code",
      "source": [
        "x_minus_mean = [(el - mean_x)**2 for el in sum_purchases]\n",
        "std_x_general = np.sqrt(sum(x_minus_mean)/len(sum_purchases))\n",
        "std_x_sample = np.sqrt(sum(x_minus_mean)/(len(sum_purchases)-1))\n",
        "std_x_general, std_x_sample"
      ],
      "metadata": {
        "id": "X4ixtmL2T642",
        "colab": {
          "base_uri": "https://localhost:8080/"
        },
        "outputId": "a77a5daa-c207-4f7e-b1e3-f3ea99d00b3a"
      },
      "execution_count": 10,
      "outputs": [
        {
          "output_type": "execute_result",
          "data": {
            "text/plain": [
              "(1096.0692713054227, 1124.5433447451132)"
            ]
          },
          "metadata": {},
          "execution_count": 10
        }
      ]
    },
    {
      "cell_type": "code",
      "source": [
        "np.std(sum_purchases), np.std(sum_purchases, ddof=1)"
      ],
      "metadata": {
        "id": "rzfu0Xi870A4",
        "outputId": "0a435797-f8ec-45e0-bbf0-0115ed6c3b76",
        "colab": {
          "base_uri": "https://localhost:8080/"
        }
      },
      "execution_count": 12,
      "outputs": [
        {
          "output_type": "execute_result",
          "data": {
            "text/plain": [
              "(1096.0692713054227, 1124.5433447451132)"
            ]
          },
          "metadata": {},
          "execution_count": 12
        }
      ]
    },
    {
      "cell_type": "markdown",
      "source": [
        "**Завдання 5**. Ми провели дослідження віку студентів-першокурсників. Виявилось, що\n",
        "- 10 студентів мають вік 16 років\n",
        "- 25 студентів - 17 років\n",
        "- 20 студентів - 18 років\n",
        "- 2 студенти - 20 років\n",
        "\n",
        "Обчислість середнє значення для цієї вибірки будь-яким способом - на чистому Python або з numpy - та виведіть результат на екран."
      ],
      "metadata": {
        "id": "M1ntKTjXLVlH"
      }
    },
    {
      "cell_type": "code",
      "source": [
        "# Обчислення середнього значення віку студентів з наданих даних\n",
        "\n",
        "ages = [16, 17, 18, 20]\n",
        "counts = [10, 25, 20, 2]\n",
        "\n",
        "# Загальна кількість студентів\n",
        "total_students = sum(counts)\n",
        "\n",
        "# Обчислення середнього значення віку\n",
        "mean_age = sum(age * count for age, count in zip(ages, counts)) / total_students\n",
        "mean_age\n"
      ],
      "metadata": {
        "id": "RdIU4M-7T8R4",
        "colab": {
          "base_uri": "https://localhost:8080/"
        },
        "outputId": "3fe91cba-01ec-4cb4-b80f-cf19dc730879"
      },
      "execution_count": 13,
      "outputs": [
        {
          "output_type": "execute_result",
          "data": {
            "text/plain": [
              "17.280701754385966"
            ]
          },
          "metadata": {},
          "execution_count": 13
        }
      ]
    },
    {
      "cell_type": "code",
      "source": [
        "import numpy as np\n",
        "\n",
        "# Дані по віку та кількості студентів\n",
        "ages = np.array([16, 17, 18, 20])\n",
        "counts = np.array([10, 25, 20, 2])\n",
        "\n",
        "# Обчислюємо середнє значення віку за допомогою numpy\n",
        "mean_age_numpy = np.average(ages, weights=counts)\n",
        "mean_age_numpy\n"
      ],
      "metadata": {
        "colab": {
          "base_uri": "https://localhost:8080/"
        },
        "id": "dVO6xP-GGgpp",
        "outputId": "513bc045-7a4c-40ca-e269-116dbd19a6b9"
      },
      "execution_count": 17,
      "outputs": [
        {
          "output_type": "execute_result",
          "data": {
            "text/plain": [
              "17.280701754385966"
            ]
          },
          "metadata": {},
          "execution_count": 17
        }
      ]
    },
    {
      "cell_type": "markdown",
      "source": [
        "**Завдання 6**. Крім даних про суму покупок, ми зібрали ще дані про кількість відвідувань кожного з кожного покупця, які знаходяться в змінній `visits`. Обчисліть коефіцієнт кореляції Пірсона для суми покупок і кількості відвідувань кожним з зазначених методів:  \n",
        "\n",
        "  6.1. без використання жодних бібліотек, користуючись тільки Python.  \n",
        "  6.2. використовуючи відповідний метод бібліотеки numpy.  \n",
        "  \n",
        "Виведіть результат на екран. Проаналізуйте результат.\n",
        "\n",
        "Виведіть додатково графік розсіювання викликавши код нижче і зробіть заключення, чи варто щось змінити при підрахунку кореляції, аби коефіцієнт Пірсона показував коректну оцінку лінійної залежності?"
      ],
      "metadata": {
        "id": "Xx8MFkkVM53z"
      }
    },
    {
      "cell_type": "code",
      "source": [
        "# Дані\n",
        "sum_purchases = [316, 493, 367, 153, 224, 121, 322, 450, 196, 397, 281, 239, 484, 124, 223, 448, 432, 255, 4310, 3524]\n",
        "visits = [6, 2, 10, 3, 9, 9, 2, 3, 6, 6, 10, 2, 5, 10, 3, 5, 4, 7, 4, 2]\n",
        "\n",
        "# Функція для обчислення середнього значення\n",
        "def mean(data):\n",
        "    return sum(data) / len(data)\n",
        "\n",
        "# Обчислюємо середні значення для visits і sum_purchases\n",
        "mean_visits = mean(visits)\n",
        "mean_purchases = mean(sum_purchases)\n",
        "\n",
        "# Обчислюємо чисельник і знаменники для коефіцієнта Пірсона\n",
        "numerator = sum((x - mean_purchases) * (y - mean_visits) for x, y in zip(sum_purchases, visits))\n",
        "denominator_purchases = sum((x - mean_purchases) ** 2 for x in sum_purchases)\n",
        "denominator_visits = sum((y - mean_visits) ** 2 for y in visits)\n",
        "\n",
        "# Коефіцієнт кореляції Пірсона\n",
        "pearson_correlation = numerator / (denominator_purchases ** 0.5 * denominator_visits ** 0.5)\n",
        "print(f\"Коефіцієнт кореляції Пірсона: {pearson_correlation}\" )\n"
      ],
      "metadata": {
        "colab": {
          "base_uri": "https://localhost:8080/"
        },
        "id": "pteaNl-VNapx",
        "outputId": "d8e431db-0b12-4785-9e7f-e609fa5aedb6"
      },
      "execution_count": 29,
      "outputs": [
        {
          "output_type": "stream",
          "name": "stdout",
          "text": [
            "Коефіцієнт кореляції Пірсона: -0.30265844687666454\n"
          ]
        }
      ]
    },
    {
      "cell_type": "code",
      "source": [
        "import numpy as np\n",
        "\n",
        "# Обчислюємо коефіцієнт кореляції Пірсона\n",
        "pearson_corr_numpy = np.corrcoef(sum_purchases, visits)[0, 1]\n",
        "pearson_corr_numpy\n",
        "\n",
        "print(f\"Коефіцієнт кореляції Пірсона: {pearson_corr_numpy}\" )\n"
      ],
      "metadata": {
        "colab": {
          "base_uri": "https://localhost:8080/"
        },
        "id": "pCEDMVx0OMZD",
        "outputId": "6a039a60-745b-400e-a458-66c9c7480b5e"
      },
      "execution_count": 33,
      "outputs": [
        {
          "output_type": "stream",
          "name": "stdout",
          "text": [
            "Коефіцієнт кореляції Пірсона: -0.3026584468766646\n"
          ]
        }
      ]
    },
    {
      "cell_type": "code",
      "source": [
        "import matplotlib.pyplot as plt\n",
        "\n",
        "plt.scatter(sum_purchases, visits)\n",
        "plt.title('Scatter Plot of Purchases vs. Visits')\n",
        "plt.xlabel('Sum of Purchases')\n",
        "plt.ylabel('Number of Visits');"
      ],
      "metadata": {
        "colab": {
          "base_uri": "https://localhost:8080/",
          "height": 472
        },
        "id": "gaeoGA-5Prr1",
        "outputId": "9ed55193-d916-4df8-feab-7a34f67b8008"
      },
      "execution_count": 24,
      "outputs": [
        {
          "output_type": "display_data",
          "data": {
            "text/plain": [
              "<Figure size 640x480 with 1 Axes>"
            ],
            "image/png": "[encoded data removed]"
          },
          "metadata": {}
        }
      ]
    },
    {
      "cell_type": "markdown",
      "source": [
        "**Завдання 7**. В попередньому завданні ми помітили, що викиди нам заважають отримати \"правдиве\" значення кореляції. Давайте вилучимо записи, які відповідають значенням з викидами в сумі покупок і обчисліть коеф. кореляції. Для цього поставте `threshold`, який дорінює середньому значенню + 2 стандартних вдіхилля суми покупок і всі значення, які більше за нього, будемо вважати викидами (є і інші правила для визначення викидів - з ним и познайомимось пізніше).\n",
        "\n",
        "Вилучіть значення з обох масивів і обчисліть коеф. кореляції Пірсона з допомогою `numpy` для кількості візитів і суми покупок без записів-викидів. Виведіть результат на екран, побудуйте діаграму розсіювання і проаналізуйте результат: що можемо сказати про залежність в даних?"
      ],
      "metadata": {
        "id": "4pEg0KzSQ6KA"
      }
    },
    {
      "cell_type": "code",
      "source": [
        "import numpy as np\n",
        "import matplotlib.pyplot as plt\n",
        "\n",
        "# Дані\n",
        "sum_purchases = np.array([316, 493, 367, 153, 224, 121, 322, 450, 196, 397, 281, 239, 484, 124, 223, 448, 432, 255, 4310, 3524])\n",
        "visits = np.array([6, 2, 10, 3, 9, 9, 2, 3, 6, 6, 10, 2, 5, 10, 3, 5, 4, 7, 4, 2])\n",
        "\n",
        "# Обчислюємо середнє значення та стандартне відхилення суми покупок\n",
        "mean_purchases = np.mean(sum_purchases)\n",
        "std_purchases = np.std(sum_purchases)\n",
        "\n",
        "# Встановлюємо поріг для викидів\n",
        "threshold = mean_purchases + 2 * std_purchases\n",
        "\n",
        "# Вилучаємо значення, які перевищують поріг (вважаємо їх викидами)\n",
        "mask = sum_purchases <= threshold\n",
        "filtered_purchases = sum_purchases[mask]\n",
        "filtered_visits = visits[mask]\n",
        "\n",
        "# Обчислюємо коефіцієнт кореляції Пірсона для очищених даних\n",
        "pearson_corr_filtered = np.corrcoef(filtered_purchases, filtered_visits)[0, 1]\n",
        "\n",
        "# Побудова графіку розсіювання для очищених даних\n",
        "plt.scatter(filtered_purchases, filtered_visits)\n",
        "plt.title('Scatter Plot of Filtered Purchases vs. Visits')\n",
        "plt.xlabel('Sum of Purchases (Filtered)')\n",
        "plt.ylabel('Number of Visits')\n",
        "plt.show()\n",
        "\n",
        "print(f\"Коефіцієнт кореляції Пірсона: {pearson_corr_filtered}\")\n",
        "\n"
      ],
      "metadata": {
        "colab": {
          "base_uri": "https://localhost:8080/",
          "height": 489
        },
        "id": "1ckeH-LpTbSF",
        "outputId": "17929687-e590-4005-92ce-20d39fb503a1"
      },
      "execution_count": 46,
      "outputs": [
        {
          "output_type": "display_data",
          "data": {
            "text/plain": [
              "<Figure size 640x480 with 1 Axes>"
            ],
            "image/png": "[encoded data removed]"
          },
          "metadata": {}
        },
        {
          "output_type": "stream",
          "name": "stdout",
          "text": [
            "Коефіцієнт кореляції Пірсона: -0.3685212078127798\n"
          ]
        }
      ]
    }
  ]
}