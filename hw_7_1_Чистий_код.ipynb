{
  "cells": [
    {
      "cell_type": "markdown",
      "metadata": {
        "id": "view-in-github",
        "colab_type": "text"
      },
      "source": [
        "<a href=\"https://colab.research.google.com/github/Kobzarko/python_for_DA_tasks/blob/main/hw_7_1_%D0%A7%D0%B8%D1%81%D1%82%D0%B8%D0%B9_%D0%BA%D0%BE%D0%B4.ipynb\" target=\"_parent\"><img src=\"https://colab.research.google.com/assets/colab-badge.svg\" alt=\"Open In Colab\"/></a>"
      ]
    },
    {
      "cell_type": "markdown",
      "id": "aed503f1",
      "metadata": {
        "ExecuteTime": {
          "end_time": "2023-07-27T20:14:32.871852Z",
          "start_time": "2023-07-27T20:14:31.036121Z"
        },
        "id": "aed503f1"
      },
      "source": [
        "У завданнях 1-4. Вам наданий простий код на Python, який не відповідає вказівкам PEP8. Ваше завдання — відредагувати код так, аби він відповідав PEP8. Напишіть після редагуванню коду, дотримання яких правил з pep8 ви досягли в відредагованій версі, наприклад\n",
        "```\n",
        "- додала пробіли навколо бінарного оператора\n",
        "- додала два порожні рядки між визначеннями функцій\n",
        "і тд\n",
        "```\n",
        "Також можна зазанчити використані правила коментарями по коду, а не окремим повідомленням.\n",
        "\n",
        "Відредагований код має виконувати весь той самий функціонал, але бути написаний відповідно до вимог до гарного коду на Python! Не забудьте запустити відредагований код, він має бути робочим."
      ]
    },
    {
      "cell_type": "markdown",
      "id": "e7fea147",
      "metadata": {
        "id": "e7fea147"
      },
      "source": [
        "Завдання 1."
      ]
    },
    {
      "cell_type": "code",
      "execution_count": null,
      "id": "f63d84d7",
      "metadata": {
        "ExecuteTime": {
          "end_time": "2023-07-29T17:02:37.075783Z",
          "start_time": "2023-07-29T17:02:37.035259Z"
        },
        "id": "f63d84d7"
      },
      "outputs": [],
      "source": [
        "def greet(name):print(f\"Hello, {name}\")\n",
        "def add(n1,n2):return n1+n2\n",
        "\n",
        "x = 5;y = 3\n",
        "display(greet(\"John\"),add(x,y))\n"
      ]
    },
    {
      "cell_type": "code",
      "execution_count": null,
      "id": "41b7e672",
      "metadata": {
        "id": "41b7e672"
      },
      "outputs": [],
      "source": [
        "def greet(name):\n",
        "    print(f\"Hello, {name}\")\n",
        "\n",
        "def add(n1, n2):\n",
        "    return n1 + n2\n",
        "\n",
        "x = 5\n",
        "y = 3\n",
        "print(greet(\"John\"), add(x, y))\n"
      ]
    },
    {
      "cell_type": "markdown",
      "source": [
        "- редагував функції, додав відступи, переніс тіло функцій на слідуючий рядок\n",
        "- додав два рядки після функцій\n",
        "- відступи після коми\n",
        "- переніс змінні на окремий рядок"
      ],
      "metadata": {
        "id": "74EeBSZ9vtpV"
      },
      "id": "74EeBSZ9vtpV"
    },
    {
      "cell_type": "markdown",
      "id": "cea88baf",
      "metadata": {
        "id": "cea88baf"
      },
      "source": [
        "Завдання 2."
      ]
    },
    {
      "cell_type": "code",
      "execution_count": null,
      "id": "dfb6d2b5",
      "metadata": {
        "ExecuteTime": {
          "end_time": "2023-07-29T17:05:49.706098Z",
          "start_time": "2023-07-29T17:05:49.688255Z"
        },
        "id": "dfb6d2b5"
      },
      "outputs": [],
      "source": [
        "from math import *\n",
        "def calcArea(r):return pi*r**2\n",
        "def calcCircumference(r):return 2*pi*r\n",
        "\n",
        "radius=5\n",
        "print(\"Area:\",calcArea(radius),\"Circumference:\",calcCircumference(radius))"
      ]
    },
    {
      "cell_type": "code",
      "execution_count": null,
      "id": "df263672",
      "metadata": {
        "id": "df263672"
      },
      "outputs": [],
      "source": [
        "from math import pi\n",
        "\n",
        "def calc_area(r):\n",
        "    return pi * r ** 2\n",
        "\n",
        "def calc_circumference(r):\n",
        "    return 2 * pi * r\n",
        "\n",
        "radius = 5\n",
        "print(\"Area:\", calc_area(radius), \"Circumference:\", calc_circumference(radius))\n"
      ]
    },
    {
      "cell_type": "markdown",
      "source": [
        "- редагував імпорт модуля\n",
        "- редагував функції\n",
        "- додав пробіли навколо операторів"
      ],
      "metadata": {
        "id": "BqJbXjcwJYBM"
      },
      "id": "BqJbXjcwJYBM"
    },
    {
      "cell_type": "markdown",
      "id": "1fd691b7",
      "metadata": {
        "id": "1fd691b7"
      },
      "source": [
        "Завдання 3."
      ]
    },
    {
      "cell_type": "code",
      "execution_count": null,
      "id": "1d5acb2d",
      "metadata": {
        "ExecuteTime": {
          "end_time": "2023-07-29T17:06:18.612622Z",
          "start_time": "2023-07-29T17:06:18.598477Z"
        },
        "id": "1d5acb2d"
      },
      "outputs": [],
      "source": [
        "class animal: pass\n",
        "class dog(animal):\n",
        "    def __init__(self,name):\n",
        "        self.name=name\n",
        "        self.type='Dog'"
      ]
    },
    {
      "cell_type": "code",
      "execution_count": null,
      "id": "0d4b2b8a",
      "metadata": {
        "id": "0d4b2b8a"
      },
      "outputs": [],
      "source": [
        "class Animal:\n",
        "    pass\n",
        "\n",
        "class Dog(Animal):\n",
        "    def __init__(self, name):\n",
        "        self.name = name\n",
        "        self.type = 'Dog'\n"
      ]
    },
    {
      "cell_type": "markdown",
      "source": [
        "- Назви класів Animal і Dog записав з великої літери\n",
        "- Вирівнювання пробілами: пробіли навколо оператора присвоєння та коми, щоб покращити читабельність.\n"
      ],
      "metadata": {
        "id": "ZfJfcJbyJ7Wa"
      },
      "id": "ZfJfcJbyJ7Wa"
    },
    {
      "cell_type": "markdown",
      "id": "7d1d4f5d",
      "metadata": {
        "id": "7d1d4f5d"
      },
      "source": [
        "Завдання 4."
      ]
    },
    {
      "cell_type": "code",
      "execution_count": null,
      "id": "a91c1cc4",
      "metadata": {
        "ExecuteTime": {
          "end_time": "2023-07-29T17:06:47.180263Z",
          "start_time": "2023-07-29T17:06:47.173617Z"
        },
        "id": "a91c1cc4"
      },
      "outputs": [],
      "source": [
        "list=[1,2,3,4,5]\n",
        "for i in range(len(list)):print(list[i])"
      ]
    },
    {
      "cell_type": "code",
      "source": [
        "my_list = [1, 2, 3, 4, 5]\n",
        "\n",
        "for item in my_list:\n",
        "    print(item)\n"
      ],
      "metadata": {
        "colab": {
          "base_uri": "https://localhost:8080/"
        },
        "id": "HCEFdLFxLA5k",
        "outputId": "828e9458-24cb-4176-f4e7-49bab4bdd148"
      },
      "id": "HCEFdLFxLA5k",
      "execution_count": 2,
      "outputs": [
        {
          "output_type": "stream",
          "name": "stdout",
          "text": [
            "1\n",
            "2\n",
            "3\n",
            "4\n",
            "5\n"
          ]
        }
      ]
    },
    {
      "cell_type": "markdown",
      "source": [
        "- Уникнення використання вбудованих назв: змінну list перейменовано на my_list, оскільки list є зарезервованою назвою в Python.\n",
        "- Покращення ітерації: замість використання range(len(...)), код спрощено для безпосередньої ітерації по елементах списку.\n",
        "- Пробіли після ком"
      ],
      "metadata": {
        "id": "FQmZLITBLMcn"
      },
      "id": "FQmZLITBLMcn"
    },
    {
      "cell_type": "markdown",
      "id": "8b0487e6",
      "metadata": {
        "id": "8b0487e6"
      },
      "source": [
        "5.У вас є DataFrame df, що представляє результати тестів студентів з математики, англійської мови та історії. Поточний код обчислює середній бал для кожного студента шляхом ітерації за рядками DataFrame за допомогою iterrows().\n",
        "\n",
        "Ваше завдання полягає в тому, щоб змінити код так, аби уникнути використання iterrows() і замість цього застосувати більш ефективне та читабельне рішення відповідно до правил, озвучених у лекції. Рефакторинг треба зробити лише частині, де рахуються середні, імпорт і визначення датафрейму лишаємо без змін."
      ]
    },
    {
      "cell_type": "code",
      "execution_count": 20,
      "id": "5b3cc648",
      "metadata": {
        "ExecuteTime": {
          "end_time": "2023-07-29T17:15:55.926882Z",
          "start_time": "2023-07-29T17:15:55.686415Z"
        },
        "id": "5b3cc648"
      },
      "outputs": [],
      "source": [
        "import pandas as pd\n",
        "\n",
        "df = pd.DataFrame({\n",
        "    'student': ['Alice', 'Bob', 'Charlie', 'David'],\n",
        "    'math_score': [89, 94, 77, 85],\n",
        "    'english_score': [92, 88, 79, 85],\n",
        "    'history_score': [84, 92, 81, 89]\n",
        "})"
      ]
    },
    {
      "cell_type": "code",
      "source": [
        "df['average_score'] = df[['math_score', 'english_score', 'history_score']].mean(axis=1).round(2)\n"
      ],
      "metadata": {
        "id": "p90vxNrnYjc-"
      },
      "id": "p90vxNrnYjc-",
      "execution_count": 21,
      "outputs": []
    },
    {
      "cell_type": "code",
      "execution_count": 22,
      "id": "74cea4fc",
      "metadata": {
        "id": "74cea4fc",
        "colab": {
          "base_uri": "https://localhost:8080/",
          "height": 175
        },
        "outputId": "18e9298f-8b85-447a-b926-2e59dda91f67"
      },
      "outputs": [
        {
          "output_type": "execute_result",
          "data": {
            "text/plain": [
              "   student  math_score  english_score  history_score  average_score\n",
              "0    Alice          89             92             84          88.33\n",
              "1      Bob          94             88             92          91.33\n",
              "2  Charlie          77             79             81          79.00\n",
              "3    David          85             85             89          86.33"
            ],
            "text/html": [
              "\n",
              "  <div id=\"df-e2f4e4e0-8f70-45a6-b7e2-ee49f2f459d3\" class=\"colab-df-container\">\n",
              "    <div>\n",
              "<style scoped>\n",
              "    .dataframe tbody tr th:only-of-type {\n",
              "        vertical-align: middle;\n",
              "    }\n",
              "\n",
              "    .dataframe tbody tr th {\n",
              "        vertical-align: top;\n",
              "    }\n",
              "\n",
              "    .dataframe thead th {\n",
              "        text-align: right;\n",
              "    }\n",
              "</style>\n",
              "<table border=\"1\" class=\"dataframe\">\n",
              "  <thead>\n",
              "    <tr style=\"text-align: right;\">\n",
              "      <th></th>\n",
              "      <th>student</th>\n",
              "      <th>math_score</th>\n",
              "      <th>english_score</th>\n",
              "      <th>history_score</th>\n",
              "      <th>average_score</th>\n",
              "    </tr>\n",
              "  </thead>\n",
              "  <tbody>\n",
              "    <tr>\n",
              "      <th>0</th>\n",
              "      <td>Alice</td>\n",
              "      <td>89</td>\n",
              "      <td>92</td>\n",
              "      <td>84</td>\n",
              "      <td>88.33</td>\n",
              "    </tr>\n",
              "    <tr>\n",
              "      <th>1</th>\n",
              "      <td>Bob</td>\n",
              "      <td>94</td>\n",
              "      <td>88</td>\n",
              "      <td>92</td>\n",
              "      <td>91.33</td>\n",
              "    </tr>\n",
              "    <tr>\n",
              "      <th>2</th>\n",
              "      <td>Charlie</td>\n",
              "      <td>77</td>\n",
              "      <td>79</td>\n",
              "      <td>81</td>\n",
              "      <td>79.00</td>\n",
              "    </tr>\n",
              "    <tr>\n",
              "      <th>3</th>\n",
              "      <td>David</td>\n",
              "      <td>85</td>\n",
              "      <td>85</td>\n",
              "      <td>89</td>\n",
              "      <td>86.33</td>\n",
              "    </tr>\n",
              "  </tbody>\n",
              "</table>\n",
              "</div>\n",
              "    <div class=\"colab-df-buttons\">\n",
              "\n",
              "  <div class=\"colab-df-container\">\n",
              "    <button class=\"colab-df-convert\" onclick=\"convertToInteractive('df-e2f4e4e0-8f70-45a6-b7e2-ee49f2f459d3')\"\n",
              "            title=\"Convert this dataframe to an interactive table.\"\n",
              "            style=\"display:none;\">\n",
              "\n",
              "  <svg xmlns=\"http://www.w3.org/2000/svg\" height=\"24px\" viewBox=\"0 -960 960 960\">\n",
              "    <path d=\"M120-120v-720h720v720H120Zm60-500h600v-160H180v160Zm220 220h160v-160H400v160Zm0 220h160v-160H400v160ZM180-400h160v-160H180v160Zm440 0h160v-160H620v160ZM180-180h160v-160H180v160Zm440 0h160v-160H620v160Z\"/>\n",
              "  </svg>\n",
              "    </button>\n",
              "\n",
              "  <style>\n",
              "    .colab-df-container {\n",
              "      display:flex;\n",
              "      gap: 12px;\n",
              "    }\n",
              "\n",
              "    .colab-df-convert {\n",
              "      background-color: #E8F0FE;\n",
              "      border: none;\n",
              "      border-radius: 50%;\n",
              "      cursor: pointer;\n",
              "      display: none;\n",
              "      fill: #1967D2;\n",
              "      height: 32px;\n",
              "      padding: 0 0 0 0;\n",
              "      width: 32px;\n",
              "    }\n",
              "\n",
              "    .colab-df-convert:hover {\n",
              "      background-color: #E2EBFA;\n",
              "      box-shadow: 0px 1px 2px rgba(60, 64, 67, 0.3), 0px 1px 3px 1px rgba(60, 64, 67, 0.15);\n",
              "      fill: #174EA6;\n",
              "    }\n",
              "\n",
              "    .colab-df-buttons div {\n",
              "      margin-bottom: 4px;\n",
              "    }\n",
              "\n",
              "    [theme=dark] .colab-df-convert {\n",
              "      background-color: #3B4455;\n",
              "      fill: #D2E3FC;\n",
              "    }\n",
              "\n",
              "    [theme=dark] .colab-df-convert:hover {\n",
              "      background-color: #434B5C;\n",
              "      box-shadow: 0px 1px 3px 1px rgba(0, 0, 0, 0.15);\n",
              "      filter: drop-shadow(0px 1px 2px rgba(0, 0, 0, 0.3));\n",
              "      fill: #FFFFFF;\n",
              "    }\n",
              "  </style>\n",
              "\n",
              "    <script>\n",
              "      const buttonEl =\n",
              "        document.querySelector('#df-e2f4e4e0-8f70-45a6-b7e2-ee49f2f459d3 button.colab-df-convert');\n",
              "      buttonEl.style.display =\n",
              "        google.colab.kernel.accessAllowed ? 'block' : 'none';\n",
              "\n",
              "      async function convertToInteractive(key) {\n",
              "        const element = document.querySelector('#df-e2f4e4e0-8f70-45a6-b7e2-ee49f2f459d3');\n",
              "        const dataTable =\n",
              "          await google.colab.kernel.invokeFunction('convertToInteractive',\n",
              "                                                    [key], {});\n",
              "        if (!dataTable) return;\n",
              "\n",
              "        const docLinkHtml = 'Like what you see? Visit the ' +\n",
              "          '<a target=\"_blank\" href=https://colab.research.google.com/notebooks/data_table.ipynb>data table notebook</a>'\n",
              "          + ' to learn more about interactive tables.';\n",
              "        element.innerHTML = '';\n",
              "        dataTable['output_type'] = 'display_data';\n",
              "        await google.colab.output.renderOutput(dataTable, element);\n",
              "        const docLink = document.createElement('div');\n",
              "        docLink.innerHTML = docLinkHtml;\n",
              "        element.appendChild(docLink);\n",
              "      }\n",
              "    </script>\n",
              "  </div>\n",
              "\n",
              "\n",
              "<div id=\"df-d483dbb7-8c66-4b34-bf6b-b1a7519e44eb\">\n",
              "  <button class=\"colab-df-quickchart\" onclick=\"quickchart('df-d483dbb7-8c66-4b34-bf6b-b1a7519e44eb')\"\n",
              "            title=\"Suggest charts\"\n",
              "            style=\"display:none;\">\n",
              "\n",
              "<svg xmlns=\"http://www.w3.org/2000/svg\" height=\"24px\"viewBox=\"0 0 24 24\"\n",
              "     width=\"24px\">\n",
              "    <g>\n",
              "        <path d=\"M19 3H5c-1.1 0-2 .9-2 2v14c0 1.1.9 2 2 2h14c1.1 0 2-.9 2-2V5c0-1.1-.9-2-2-2zM9 17H7v-7h2v7zm4 0h-2V7h2v10zm4 0h-2v-4h2v4z\"/>\n",
              "    </g>\n",
              "</svg>\n",
              "  </button>\n",
              "\n",
              "<style>\n",
              "  .colab-df-quickchart {\n",
              "      --bg-color: #E8F0FE;\n",
              "      --fill-color: #1967D2;\n",
              "      --hover-bg-color: #E2EBFA;\n",
              "      --hover-fill-color: #174EA6;\n",
              "      --disabled-fill-color: #AAA;\n",
              "      --disabled-bg-color: #DDD;\n",
              "  }\n",
              "\n",
              "  [theme=dark] .colab-df-quickchart {\n",
              "      --bg-color: #3B4455;\n",
              "      --fill-color: #D2E3FC;\n",
              "      --hover-bg-color: #434B5C;\n",
              "      --hover-fill-color: #FFFFFF;\n",
              "      --disabled-bg-color: #3B4455;\n",
              "      --disabled-fill-color: #666;\n",
              "  }\n",
              "\n",
              "  .colab-df-quickchart {\n",
              "    background-color: var(--bg-color);\n",
              "    border: none;\n",
              "    border-radius: 50%;\n",
              "    cursor: pointer;\n",
              "    display: none;\n",
              "    fill: var(--fill-color);\n",
              "    height: 32px;\n",
              "    padding: 0;\n",
              "    width: 32px;\n",
              "  }\n",
              "\n",
              "  .colab-df-quickchart:hover {\n",
              "    background-color: var(--hover-bg-color);\n",
              "    box-shadow: 0 1px 2px rgba(60, 64, 67, 0.3), 0 1px 3px 1px rgba(60, 64, 67, 0.15);\n",
              "    fill: var(--button-hover-fill-color);\n",
              "  }\n",
              "\n",
              "  .colab-df-quickchart-complete:disabled,\n",
              "  .colab-df-quickchart-complete:disabled:hover {\n",
              "    background-color: var(--disabled-bg-color);\n",
              "    fill: var(--disabled-fill-color);\n",
              "    box-shadow: none;\n",
              "  }\n",
              "\n",
              "  .colab-df-spinner {\n",
              "    border: 2px solid var(--fill-color);\n",
              "    border-color: transparent;\n",
              "    border-bottom-color: var(--fill-color);\n",
              "    animation:\n",
              "      spin 1s steps(1) infinite;\n",
              "  }\n",
              "\n",
              "  @keyframes spin {\n",
              "    0% {\n",
              "      border-color: transparent;\n",
              "      border-bottom-color: var(--fill-color);\n",
              "      border-left-color: var(--fill-color);\n",
              "    }\n",
              "    20% {\n",
              "      border-color: transparent;\n",
              "      border-left-color: var(--fill-color);\n",
              "      border-top-color: var(--fill-color);\n",
              "    }\n",
              "    30% {\n",
              "      border-color: transparent;\n",
              "      border-left-color: var(--fill-color);\n",
              "      border-top-color: var(--fill-color);\n",
              "      border-right-color: var(--fill-color);\n",
              "    }\n",
              "    40% {\n",
              "      border-color: transparent;\n",
              "      border-right-color: var(--fill-color);\n",
              "      border-top-color: var(--fill-color);\n",
              "    }\n",
              "    60% {\n",
              "      border-color: transparent;\n",
              "      border-right-color: var(--fill-color);\n",
              "    }\n",
              "    80% {\n",
              "      border-color: transparent;\n",
              "      border-right-color: var(--fill-color);\n",
              "      border-bottom-color: var(--fill-color);\n",
              "    }\n",
              "    90% {\n",
              "      border-color: transparent;\n",
              "      border-bottom-color: var(--fill-color);\n",
              "    }\n",
              "  }\n",
              "</style>\n",
              "\n",
              "  <script>\n",
              "    async function quickchart(key) {\n",
              "      const quickchartButtonEl =\n",
              "        document.querySelector('#' + key + ' button');\n",
              "      quickchartButtonEl.disabled = true;  // To prevent multiple clicks.\n",
              "      quickchartButtonEl.classList.add('colab-df-spinner');\n",
              "      try {\n",
              "        const charts = await google.colab.kernel.invokeFunction(\n",
              "            'suggestCharts', [key], {});\n",
              "      } catch (error) {\n",
              "        console.error('Error during call to suggestCharts:', error);\n",
              "      }\n",
              "      quickchartButtonEl.classList.remove('colab-df-spinner');\n",
              "      quickchartButtonEl.classList.add('colab-df-quickchart-complete');\n",
              "    }\n",
              "    (() => {\n",
              "      let quickchartButtonEl =\n",
              "        document.querySelector('#df-d483dbb7-8c66-4b34-bf6b-b1a7519e44eb button');\n",
              "      quickchartButtonEl.style.display =\n",
              "        google.colab.kernel.accessAllowed ? 'block' : 'none';\n",
              "    })();\n",
              "  </script>\n",
              "</div>\n",
              "    </div>\n",
              "  </div>\n"
            ],
            "application/vnd.google.colaboratory.intrinsic+json": {
              "type": "dataframe",
              "variable_name": "df",
              "summary": "{\n  \"name\": \"df\",\n  \"rows\": 4,\n  \"fields\": [\n    {\n      \"column\": \"student\",\n      \"properties\": {\n        \"dtype\": \"string\",\n        \"num_unique_values\": 4,\n        \"samples\": [\n          \"Bob\",\n          \"David\",\n          \"Alice\"\n        ],\n        \"semantic_type\": \"\",\n        \"description\": \"\"\n      }\n    },\n    {\n      \"column\": \"math_score\",\n      \"properties\": {\n        \"dtype\": \"number\",\n        \"std\": 7,\n        \"min\": 77,\n        \"max\": 94,\n        \"num_unique_values\": 4,\n        \"samples\": [\n          94,\n          85,\n          89\n        ],\n        \"semantic_type\": \"\",\n        \"description\": \"\"\n      }\n    },\n    {\n      \"column\": \"english_score\",\n      \"properties\": {\n        \"dtype\": \"number\",\n        \"std\": 5,\n        \"min\": 79,\n        \"max\": 92,\n        \"num_unique_values\": 4,\n        \"samples\": [\n          88,\n          85,\n          92\n        ],\n        \"semantic_type\": \"\",\n        \"description\": \"\"\n      }\n    },\n    {\n      \"column\": \"history_score\",\n      \"properties\": {\n        \"dtype\": \"number\",\n        \"std\": 4,\n        \"min\": 81,\n        \"max\": 92,\n        \"num_unique_values\": 4,\n        \"samples\": [\n          92,\n          89,\n          84\n        ],\n        \"semantic_type\": \"\",\n        \"description\": \"\"\n      }\n    },\n    {\n      \"column\": \"average_score\",\n      \"properties\": {\n        \"dtype\": \"number\",\n        \"std\": 5.2504499807159375,\n        \"min\": 79.0,\n        \"max\": 91.33,\n        \"num_unique_values\": 4,\n        \"samples\": [\n          91.33,\n          86.33,\n          88.33\n        ],\n        \"semantic_type\": \"\",\n        \"description\": \"\"\n      }\n    }\n  ]\n}"
            }
          },
          "metadata": {},
          "execution_count": 22
        }
      ],
      "source": [
        "df.head()"
      ]
    },
    {
      "cell_type": "markdown",
      "id": "34fb1db9",
      "metadata": {
        "id": "34fb1db9"
      },
      "source": [
        "6.У Вас є великий DataFrame df, що представляє транзакції продажу в магазині. Цей DataFrame містить понад 1 мільйон рядків і кілька стовпців, зокрема «product_name», «product_category», «product_price» і «transaction_date».\n",
        "\n",
        "І «product_name», і «product_category» є рядками, що представляють численні, але обмежені унікальні назви продуктів і категорії відповідно.\n",
        "\n",
        "Напишіть код для ефективного перетворення стовпців «product_name» і «product_category» на категорійний тип для ефективного використання пам’яті.\n",
        "Спробуйте вирішити це завдання, мінімізуючи використання пам'яті та зберігаючи читабельність коду. Крім того, виміряйте використання пам’яті до та після перетворення, щоб продемонструвати підвищення ефективності.\n",
        "\n",
        "Порівняйте кількість памʼяті, яку займає наданий набір даних і новий, створений Вами. В лекції був приклад. В скільки разів менше памʼяті займає новий датафрейм?"
      ]
    },
    {
      "cell_type": "code",
      "source": [
        "import pandas as pd\n",
        "import numpy as np\n",
        "\n",
        "# Ініціалізація даних\n",
        "np.random.seed(0)\n",
        "products = ['apple', 'banana', 'cherry', 'dates', 'elderberry']\n",
        "categories = ['fruit', 'fruit', 'fruit', 'fruit', 'fruit']\n",
        "\n",
        "N_ROWS = 10**6\n",
        "df = pd.DataFrame({\n",
        "    'product_name': np.random.choice(products, N_ROWS),\n",
        "    'product_category': np.random.choice(categories, N_ROWS),\n",
        "    'product_price': np.random.uniform(1, 10, N_ROWS),\n",
        "    'transaction_date': pd.date_range(start='1/1/2000', periods=N_ROWS, freq='h')\n",
        "})\n",
        "\n",
        "# Використання пам'яті до перетворення\n",
        "initial_memory = df.memory_usage(deep=True).sum()\n",
        "print(f\"Використання пам'яті до перетворення: {initial_memory / 1024**2:.2f} MB\")\n",
        "\n",
        "# Перетворення стовпців на категорійний тип\n",
        "df['product_name'] = df['product_name'].astype('category')\n",
        "df['product_category'] = df['product_category'].astype('category')\n",
        "\n",
        "# Використання пам'яті після перетворення\n",
        "optimized_memory = df.memory_usage(deep=True).sum()\n",
        "print(f\"Використання пам'яті після перетворення: {optimized_memory / 1024**2:.2f} MB\")\n",
        "\n",
        "# Порівняння кількості пам'яті до та після перетворення\n",
        "reduction_factor = initial_memory / optimized_memory\n",
        "print(f\"Зменшення використання пам'яті в {reduction_factor:.2f} рази\")\n",
        "\n"
      ],
      "metadata": {
        "colab": {
          "base_uri": "https://localhost:8080/"
        },
        "id": "PvggNgWFcWKg",
        "outputId": "de553ae1-624d-4886-eef8-2fdc82953aff"
      },
      "id": "PvggNgWFcWKg",
      "execution_count": 10,
      "outputs": [
        {
          "output_type": "stream",
          "name": "stdout",
          "text": [
            "Використання пам'яті до перетворення: 134.85 MB\n",
            "Використання пам'яті після перетворення: 17.17 MB\n",
            "Зменшення використання пам'яті в 7.86 рази\n"
          ]
        }
      ]
    },
    {
      "cell_type": "markdown",
      "id": "131cc08d",
      "metadata": {
        "id": "131cc08d"
      },
      "source": [
        "7.В цьому завданні кілька пунктів. Треба виконати усі послідовно.   \n",
        "    7.1. Завантажте дані у pandas dataframe з файла `ecommerce_data.csv`. Обовʼязково при завантаженні вкажіть параметр `encoding = 'ISO-8859-1'`, без нього буде помилка.  \n",
        "    7.2. Заповніть пропущені значення в колонці CustomerID на -1 та перетворіть тип цієї колонки на str, адже зараз вона типу float, а це не правильний тип даних для ідентифікатора клієнта.  \n",
        "    7.3. З допомогою бібліотеки sweetviz побудуйте html звіт, який порівнює дані для країни \"Germany\" і країни \"France\". У Вас можуть виникнути багато попереджень (Warning), їх рекомендую вимкнути наступним шматком коду   \n",
        "    \n",
        "   \n",
        "    import warnings\n",
        "\n",
        "    with warnings.catch_warnings(record=True):\n",
        "        # your code\n",
        "    \n",
        "    \n",
        "   7.4.Напишіть 5 відмінностей для двох зазначених країн на основі побудованого звіту, без виконання додаткового аналізу іншими інструментами."
      ]
    },
    {
      "cell_type": "code",
      "execution_count": 51,
      "id": "17200e77",
      "metadata": {
        "id": "17200e77",
        "colab": {
          "base_uri": "https://localhost:8080/"
        },
        "outputId": "11bd2cce-2203-4040-8599-bcb8e118ef7e"
      },
      "outputs": [
        {
          "output_type": "stream",
          "name": "stdout",
          "text": [
            "Drive already mounted at /content/drive; to attempt to forcibly remount, call drive.mount(\"/content/drive\", force_remount=True).\n"
          ]
        }
      ],
      "source": [
        "from google.colab import drive\n",
        "drive.mount('/content/drive')\n",
        "\n",
        "data_path ='/content/drive/MyDrive/Colab Notebooks/Data/ecommerce_data.csv'\n",
        "\n",
        "df = pd.read_csv(data_path,encoding = 'ISO-8859-1')"
      ]
    },
    {
      "cell_type": "code",
      "source": [
        "# Заповнюємо пропущені значення на -1\n",
        "df['CustomerID'] = df['CustomerID'].fillna(-1)\n",
        "\n",
        "# Перетворюємо тип колонки на str\n",
        "df['CustomerID'] = df['CustomerID'].astype(str)\n"
      ],
      "metadata": {
        "id": "JR_LMMVfgrjI"
      },
      "id": "JR_LMMVfgrjI",
      "execution_count": 52,
      "outputs": []
    },
    {
      "cell_type": "code",
      "source": [
        "df.head()"
      ],
      "metadata": {
        "colab": {
          "base_uri": "https://localhost:8080/",
          "height": 206
        },
        "id": "fgURdy6anhXj",
        "outputId": "222a403f-1df0-4a8c-a634-3014e5f4123a"
      },
      "id": "fgURdy6anhXj",
      "execution_count": 55,
      "outputs": [
        {
          "output_type": "execute_result",
          "data": {
            "text/plain": [
              "  InvoiceNo StockCode                          Description  Quantity  \\\n",
              "0    536365    85123A   WHITE HANGING HEART T-LIGHT HOLDER         6   \n",
              "1    536365     71053                  WHITE METAL LANTERN         6   \n",
              "2    536365    84406B       CREAM CUPID HEARTS COAT HANGER         8   \n",
              "3    536365    84029G  KNITTED UNION FLAG HOT WATER BOTTLE         6   \n",
              "4    536365    84029E       RED WOOLLY HOTTIE WHITE HEART.         6   \n",
              "\n",
              "      InvoiceDate  UnitPrice CustomerID         Country  \n",
              "0  12/1/2010 8:26       2.55    17850.0  United Kingdom  \n",
              "1  12/1/2010 8:26       3.39    17850.0  United Kingdom  \n",
              "2  12/1/2010 8:26       2.75    17850.0  United Kingdom  \n",
              "3  12/1/2010 8:26       3.39    17850.0  United Kingdom  \n",
              "4  12/1/2010 8:26       3.39    17850.0  United Kingdom  "
            ],
            "text/html": [
              "\n",
              "  <div id=\"df-70fb5a10-3767-4f89-9ace-6f22f5a8027b\" class=\"colab-df-container\">\n",
              "    <div>\n",
              "<style scoped>\n",
              "    .dataframe tbody tr th:only-of-type {\n",
              "        vertical-align: middle;\n",
              "    }\n",
              "\n",
              "    .dataframe tbody tr th {\n",
              "        vertical-align: top;\n",
              "    }\n",
              "\n",
              "    .dataframe thead th {\n",
              "        text-align: right;\n",
              "    }\n",
              "</style>\n",
              "<table border=\"1\" class=\"dataframe\">\n",
              "  <thead>\n",
              "    <tr style=\"text-align: right;\">\n",
              "      <th></th>\n",
              "      <th>InvoiceNo</th>\n",
              "      <th>StockCode</th>\n",
              "      <th>Description</th>\n",
              "      <th>Quantity</th>\n",
              "      <th>InvoiceDate</th>\n",
              "      <th>UnitPrice</th>\n",
              "      <th>CustomerID</th>\n",
              "      <th>Country</th>\n",
              "    </tr>\n",
              "  </thead>\n",
              "  <tbody>\n",
              "    <tr>\n",
              "      <th>0</th>\n",
              "      <td>536365</td>\n",
              "      <td>85123A</td>\n",
              "      <td>WHITE HANGING HEART T-LIGHT HOLDER</td>\n",
              "      <td>6</td>\n",
              "      <td>12/1/2010 8:26</td>\n",
              "      <td>2.55</td>\n",
              "      <td>17850.0</td>\n",
              "      <td>United Kingdom</td>\n",
              "    </tr>\n",
              "    <tr>\n",
              "      <th>1</th>\n",
              "      <td>536365</td>\n",
              "      <td>71053</td>\n",
              "      <td>WHITE METAL LANTERN</td>\n",
              "      <td>6</td>\n",
              "      <td>12/1/2010 8:26</td>\n",
              "      <td>3.39</td>\n",
              "      <td>17850.0</td>\n",
              "      <td>United Kingdom</td>\n",
              "    </tr>\n",
              "    <tr>\n",
              "      <th>2</th>\n",
              "      <td>536365</td>\n",
              "      <td>84406B</td>\n",
              "      <td>CREAM CUPID HEARTS COAT HANGER</td>\n",
              "      <td>8</td>\n",
              "      <td>12/1/2010 8:26</td>\n",
              "      <td>2.75</td>\n",
              "      <td>17850.0</td>\n",
              "      <td>United Kingdom</td>\n",
              "    </tr>\n",
              "    <tr>\n",
              "      <th>3</th>\n",
              "      <td>536365</td>\n",
              "      <td>84029G</td>\n",
              "      <td>KNITTED UNION FLAG HOT WATER BOTTLE</td>\n",
              "      <td>6</td>\n",
              "      <td>12/1/2010 8:26</td>\n",
              "      <td>3.39</td>\n",
              "      <td>17850.0</td>\n",
              "      <td>United Kingdom</td>\n",
              "    </tr>\n",
              "    <tr>\n",
              "      <th>4</th>\n",
              "      <td>536365</td>\n",
              "      <td>84029E</td>\n",
              "      <td>RED WOOLLY HOTTIE WHITE HEART.</td>\n",
              "      <td>6</td>\n",
              "      <td>12/1/2010 8:26</td>\n",
              "      <td>3.39</td>\n",
              "      <td>17850.0</td>\n",
              "      <td>United Kingdom</td>\n",
              "    </tr>\n",
              "  </tbody>\n",
              "</table>\n",
              "</div>\n",
              "    <div class=\"colab-df-buttons\">\n",
              "\n",
              "  <div class=\"colab-df-container\">\n",
              "    <button class=\"colab-df-convert\" onclick=\"convertToInteractive('df-70fb5a10-3767-4f89-9ace-6f22f5a8027b')\"\n",
              "            title=\"Convert this dataframe to an interactive table.\"\n",
              "            style=\"display:none;\">\n",
              "\n",
              "  <svg xmlns=\"http://www.w3.org/2000/svg\" height=\"24px\" viewBox=\"0 -960 960 960\">\n",
              "    <path d=\"M120-120v-720h720v720H120Zm60-500h600v-160H180v160Zm220 220h160v-160H400v160Zm0 220h160v-160H400v160ZM180-400h160v-160H180v160Zm440 0h160v-160H620v160ZM180-180h160v-160H180v160Zm440 0h160v-160H620v160Z\"/>\n",
              "  </svg>\n",
              "    </button>\n",
              "\n",
              "  <style>\n",
              "    .colab-df-container {\n",
              "      display:flex;\n",
              "      gap: 12px;\n",
              "    }\n",
              "\n",
              "    .colab-df-convert {\n",
              "      background-color: #E8F0FE;\n",
              "      border: none;\n",
              "      border-radius: 50%;\n",
              "      cursor: pointer;\n",
              "      display: none;\n",
              "      fill: #1967D2;\n",
              "      height: 32px;\n",
              "      padding: 0 0 0 0;\n",
              "      width: 32px;\n",
              "    }\n",
              "\n",
              "    .colab-df-convert:hover {\n",
              "      background-color: #E2EBFA;\n",
              "      box-shadow: 0px 1px 2px rgba(60, 64, 67, 0.3), 0px 1px 3px 1px rgba(60, 64, 67, 0.15);\n",
              "      fill: #174EA6;\n",
              "    }\n",
              "\n",
              "    .colab-df-buttons div {\n",
              "      margin-bottom: 4px;\n",
              "    }\n",
              "\n",
              "    [theme=dark] .colab-df-convert {\n",
              "      background-color: #3B4455;\n",
              "      fill: #D2E3FC;\n",
              "    }\n",
              "\n",
              "    [theme=dark] .colab-df-convert:hover {\n",
              "      background-color: #434B5C;\n",
              "      box-shadow: 0px 1px 3px 1px rgba(0, 0, 0, 0.15);\n",
              "      filter: drop-shadow(0px 1px 2px rgba(0, 0, 0, 0.3));\n",
              "      fill: #FFFFFF;\n",
              "    }\n",
              "  </style>\n",
              "\n",
              "    <script>\n",
              "      const buttonEl =\n",
              "        document.querySelector('#df-70fb5a10-3767-4f89-9ace-6f22f5a8027b button.colab-df-convert');\n",
              "      buttonEl.style.display =\n",
              "        google.colab.kernel.accessAllowed ? 'block' : 'none';\n",
              "\n",
              "      async function convertToInteractive(key) {\n",
              "        const element = document.querySelector('#df-70fb5a10-3767-4f89-9ace-6f22f5a8027b');\n",
              "        const dataTable =\n",
              "          await google.colab.kernel.invokeFunction('convertToInteractive',\n",
              "                                                    [key], {});\n",
              "        if (!dataTable) return;\n",
              "\n",
              "        const docLinkHtml = 'Like what you see? Visit the ' +\n",
              "          '<a target=\"_blank\" href=https://colab.research.google.com/notebooks/data_table.ipynb>data table notebook</a>'\n",
              "          + ' to learn more about interactive tables.';\n",
              "        element.innerHTML = '';\n",
              "        dataTable['output_type'] = 'display_data';\n",
              "        await google.colab.output.renderOutput(dataTable, element);\n",
              "        const docLink = document.createElement('div');\n",
              "        docLink.innerHTML = docLinkHtml;\n",
              "        element.appendChild(docLink);\n",
              "      }\n",
              "    </script>\n",
              "  </div>\n",
              "\n",
              "\n",
              "<div id=\"df-13ebba4e-830a-43fb-892e-599fe94c4fd5\">\n",
              "  <button class=\"colab-df-quickchart\" onclick=\"quickchart('df-13ebba4e-830a-43fb-892e-599fe94c4fd5')\"\n",
              "            title=\"Suggest charts\"\n",
              "            style=\"display:none;\">\n",
              "\n",
              "<svg xmlns=\"http://www.w3.org/2000/svg\" height=\"24px\"viewBox=\"0 0 24 24\"\n",
              "     width=\"24px\">\n",
              "    <g>\n",
              "        <path d=\"M19 3H5c-1.1 0-2 .9-2 2v14c0 1.1.9 2 2 2h14c1.1 0 2-.9 2-2V5c0-1.1-.9-2-2-2zM9 17H7v-7h2v7zm4 0h-2V7h2v10zm4 0h-2v-4h2v4z\"/>\n",
              "    </g>\n",
              "</svg>\n",
              "  </button>\n",
              "\n",
              "<style>\n",
              "  .colab-df-quickchart {\n",
              "      --bg-color: #E8F0FE;\n",
              "      --fill-color: #1967D2;\n",
              "      --hover-bg-color: #E2EBFA;\n",
              "      --hover-fill-color: #174EA6;\n",
              "      --disabled-fill-color: #AAA;\n",
              "      --disabled-bg-color: #DDD;\n",
              "  }\n",
              "\n",
              "  [theme=dark] .colab-df-quickchart {\n",
              "      --bg-color: #3B4455;\n",
              "      --fill-color: #D2E3FC;\n",
              "      --hover-bg-color: #434B5C;\n",
              "      --hover-fill-color: #FFFFFF;\n",
              "      --disabled-bg-color: #3B4455;\n",
              "      --disabled-fill-color: #666;\n",
              "  }\n",
              "\n",
              "  .colab-df-quickchart {\n",
              "    background-color: var(--bg-color);\n",
              "    border: none;\n",
              "    border-radius: 50%;\n",
              "    cursor: pointer;\n",
              "    display: none;\n",
              "    fill: var(--fill-color);\n",
              "    height: 32px;\n",
              "    padding: 0;\n",
              "    width: 32px;\n",
              "  }\n",
              "\n",
              "  .colab-df-quickchart:hover {\n",
              "    background-color: var(--hover-bg-color);\n",
              "    box-shadow: 0 1px 2px rgba(60, 64, 67, 0.3), 0 1px 3px 1px rgba(60, 64, 67, 0.15);\n",
              "    fill: var(--button-hover-fill-color);\n",
              "  }\n",
              "\n",
              "  .colab-df-quickchart-complete:disabled,\n",
              "  .colab-df-quickchart-complete:disabled:hover {\n",
              "    background-color: var(--disabled-bg-color);\n",
              "    fill: var(--disabled-fill-color);\n",
              "    box-shadow: none;\n",
              "  }\n",
              "\n",
              "  .colab-df-spinner {\n",
              "    border: 2px solid var(--fill-color);\n",
              "    border-color: transparent;\n",
              "    border-bottom-color: var(--fill-color);\n",
              "    animation:\n",
              "      spin 1s steps(1) infinite;\n",
              "  }\n",
              "\n",
              "  @keyframes spin {\n",
              "    0% {\n",
              "      border-color: transparent;\n",
              "      border-bottom-color: var(--fill-color);\n",
              "      border-left-color: var(--fill-color);\n",
              "    }\n",
              "    20% {\n",
              "      border-color: transparent;\n",
              "      border-left-color: var(--fill-color);\n",
              "      border-top-color: var(--fill-color);\n",
              "    }\n",
              "    30% {\n",
              "      border-color: transparent;\n",
              "      border-left-color: var(--fill-color);\n",
              "      border-top-color: var(--fill-color);\n",
              "      border-right-color: var(--fill-color);\n",
              "    }\n",
              "    40% {\n",
              "      border-color: transparent;\n",
              "      border-right-color: var(--fill-color);\n",
              "      border-top-color: var(--fill-color);\n",
              "    }\n",
              "    60% {\n",
              "      border-color: transparent;\n",
              "      border-right-color: var(--fill-color);\n",
              "    }\n",
              "    80% {\n",
              "      border-color: transparent;\n",
              "      border-right-color: var(--fill-color);\n",
              "      border-bottom-color: var(--fill-color);\n",
              "    }\n",
              "    90% {\n",
              "      border-color: transparent;\n",
              "      border-bottom-color: var(--fill-color);\n",
              "    }\n",
              "  }\n",
              "</style>\n",
              "\n",
              "  <script>\n",
              "    async function quickchart(key) {\n",
              "      const quickchartButtonEl =\n",
              "        document.querySelector('#' + key + ' button');\n",
              "      quickchartButtonEl.disabled = true;  // To prevent multiple clicks.\n",
              "      quickchartButtonEl.classList.add('colab-df-spinner');\n",
              "      try {\n",
              "        const charts = await google.colab.kernel.invokeFunction(\n",
              "            'suggestCharts', [key], {});\n",
              "      } catch (error) {\n",
              "        console.error('Error during call to suggestCharts:', error);\n",
              "      }\n",
              "      quickchartButtonEl.classList.remove('colab-df-spinner');\n",
              "      quickchartButtonEl.classList.add('colab-df-quickchart-complete');\n",
              "    }\n",
              "    (() => {\n",
              "      let quickchartButtonEl =\n",
              "        document.querySelector('#df-13ebba4e-830a-43fb-892e-599fe94c4fd5 button');\n",
              "      quickchartButtonEl.style.display =\n",
              "        google.colab.kernel.accessAllowed ? 'block' : 'none';\n",
              "    })();\n",
              "  </script>\n",
              "</div>\n",
              "    </div>\n",
              "  </div>\n"
            ],
            "application/vnd.google.colaboratory.intrinsic+json": {
              "type": "dataframe",
              "variable_name": "df"
            }
          },
          "metadata": {},
          "execution_count": 55
        }
      ]
    },
    {
      "cell_type": "code",
      "source": [
        "!pip install sweetviz"
      ],
      "metadata": {
        "id": "zdcePh9Omhn9"
      },
      "id": "zdcePh9Omhn9",
      "execution_count": null,
      "outputs": []
    },
    {
      "cell_type": "code",
      "source": [
        "import sweetviz as sv"
      ],
      "metadata": {
        "id": "VLtQAC2RnCio"
      },
      "id": "VLtQAC2RnCio",
      "execution_count": 54,
      "outputs": []
    },
    {
      "cell_type": "code",
      "source": [
        "report = sv.analyze(df)\n"
      ],
      "metadata": {
        "colab": {
          "base_uri": "https://localhost:8080/",
          "height": 49,
          "referenced_widgets": [
            "d90b59bc912042c3ae29b19a1e095dec",
            "8ab6831e9c6b4d1bb03b0abe2a8be82c",
            "a2d1d996f6ac41b09d526e41af561337",
            "069465dc991e4eed98189dfa13fdedf9",
            "a28acee028d344dea434546ff8d15c56",
            "398f4bfc0fdf4d86978d228daa650cd0",
            "2baf9b6391a24f9f810e70b239d9a129",
            "add80e57e5534572900fe18c7daf5ee9",
            "f66dfdffba0945fa83b11e062b4bdc23",
            "238e08a93a0f40378379114a048e9f7b",
            "ba677154b25d470ea2c7dab94cb3368a"
          ]
        },
        "id": "hhylVxlVnEmc",
        "outputId": "92ceb0ff-511a-4460-cddb-d9d20da865ca"
      },
      "id": "hhylVxlVnEmc",
      "execution_count": 59,
      "outputs": [
        {
          "output_type": "display_data",
          "data": {
            "text/plain": [
              "                                             |          | [  0%]   00:00 -> (? left)"
            ],
            "application/vnd.jupyter.widget-view+json": {
              "version_major": 2,
              "version_minor": 0,
              "model_id": "d90b59bc912042c3ae29b19a1e095dec"
            }
          },
          "metadata": {}
        }
      ]
    },
    {
      "cell_type": "code",
      "source": [
        "report.show_notebook(w=None,\n",
        "                h=None,\n",
        "                scale=None,\n",
        "                layout='widescreen',\n",
        "                filepath=None,\n",
        "                file_layout=None,\n",
        "                file_scale=None)"
      ],
      "metadata": {
        "id": "ZHEp1_Hko3yv"
      },
      "id": "ZHEp1_Hko3yv",
      "execution_count": null,
      "outputs": []
    },
    {
      "cell_type": "code",
      "source": [
        "my_report = sv.compare_intra(df, df[\"Country\"] == \"Germany\", [\"Germany\", \"France\"],target_feat=None)"
      ],
      "metadata": {
        "colab": {
          "base_uri": "https://localhost:8080/",
          "height": 49,
          "referenced_widgets": [
            "a3b5f7a98a3a4c63a21e6b9e61446cab",
            "654b21d05a2b47cf8aa221cebd7cb6bc",
            "da5295c23d1e4356b1b3bdb2aafc6307",
            "82204082ec8748b0901949a996a79737",
            "a55631946a8842d5b24714dbdf6b4e54",
            "f250d52bd3604c5dbe39e63edae3bfdc",
            "ad4705d7c2bf4c8ca069f1773d12f4da",
            "16144d5a110c40e2b0ea90d51ad691c7",
            "ac2b52b9b80f4379a498c67b229918ae",
            "70cc2368e0a747bf966a1ec526dc3e3b",
            "ba5021cf4ea84d639985c51754cd6979"
          ]
        },
        "id": "Y5zc3YvdtdI-",
        "outputId": "84d357cf-666c-4032-bba6-00ebd0572d93"
      },
      "id": "Y5zc3YvdtdI-",
      "execution_count": 70,
      "outputs": [
        {
          "output_type": "display_data",
          "data": {
            "text/plain": [
              "                                             |          | [  0%]   00:00 -> (? left)"
            ],
            "application/vnd.jupyter.widget-view+json": {
              "version_major": 2,
              "version_minor": 0,
              "model_id": "a3b5f7a98a3a4c63a21e6b9e61446cab"
            }
          },
          "metadata": {}
        }
      ]
    },
    {
      "cell_type": "code",
      "source": [
        "my_report.show_notebook(w=None,\n",
        "                h=None,\n",
        "                scale=None,\n",
        "                layout='widescreen',\n",
        "                filepath=None,\n",
        "                file_layout=None,\n",
        "                file_scale=None)"
      ],
      "metadata": {
        "id": "UOcggZS2uDqs"
      },
      "id": "UOcggZS2uDqs",
      "execution_count": null,
      "outputs": []
    },
    {
      "cell_type": "markdown",
      "id": "07ae375a",
      "metadata": {
        "ExecuteTime": {
          "end_time": "2023-07-30T18:55:42.650457Z",
          "start_time": "2023-07-30T18:55:42.635729Z"
        },
        "id": "07ae375a"
      },
      "source": [
        "8.З допомогою ChatGPT виявіть, чи є та які помилки в наступному коді.  \n",
        "Попросіть після цього переписати код із дотриманням PEP8. Проаналізуйте результат. Чи справді ChatGPT виправив всі стилістичні помилки? Якщо ні, напишіть йому ще кілька запитів, аби код відповідав вимогам PEP8.  \n",
        "Вставте фінальну версію коду з чату у ноутбук та запустіть на заданому списку. Має вертатись 50.  \n",
        "Напишіть, які промпти (інструкції) при зверненні до ChatGPT ви застосували та додайте скріншот(-и) з промптами та відповідями чата.  \n",
        "Якщо зробили висновки при виконанні цього завдання, то діліться також :)\n",
        "\n",
        "**ЯК ВСТАВИТИ СКРІНШОТ в Jupyter Notebook** :\n",
        "1. Створіть нову Markdown клітинку\n",
        "2. В новоствореній клітинці обираєте в меню Jupyter Notebook Edit -> Insert Image\n",
        "3. Обираєте картинку\n",
        "4. В клітинці має зʼявитись текст, який містить картинку. Запустіть клітинку.\n",
        "\n",
        "Або можна просто перетягнути картинку в Markdown клітинку."
      ]
    },
    {
      "cell_type": "code",
      "execution_count": 72,
      "id": "a5c010c4",
      "metadata": {
        "ExecuteTime": {
          "end_time": "2023-07-30T19:16:20.977219Z",
          "start_time": "2023-07-30T19:16:20.973688Z"
        },
        "id": "a5c010c4"
      },
      "outputs": [],
      "source": [
        "def CalculateVariance(nl):\n",
        "    sum_list = 0\n",
        "    for n in nl:\n",
        "        sum_list = sum_list + n\n",
        "    mean = sum_list / len(nl)\n",
        "    sum_squares = 0\n",
        "    for n in nl:\n",
        "        sum_squares = sum_squares + n**2\n",
        "    mean_squares = sum_squares / len(nl)\n",
        "    return mean_squares"
      ]
    },
    {
      "cell_type": "code",
      "execution_count": 73,
      "id": "24bb3f81",
      "metadata": {
        "ExecuteTime": {
          "end_time": "2023-07-30T19:16:09.201841Z",
          "start_time": "2023-07-30T19:16:09.199174Z"
        },
        "id": "24bb3f81"
      },
      "outputs": [],
      "source": [
        "input_list = [75, 80, 85, 90, 95]"
      ]
    },
    {
      "cell_type": "code",
      "source": [
        "CalculateVariance(input_list)"
      ],
      "metadata": {
        "colab": {
          "base_uri": "https://localhost:8080/"
        },
        "id": "uat2ZKIFxGiG",
        "outputId": "6645ccbc-d808-4e8b-ddc5-5c472140c726"
      },
      "id": "uat2ZKIFxGiG",
      "execution_count": 74,
      "outputs": [
        {
          "output_type": "execute_result",
          "data": {
            "text/plain": [
              "7275.0"
            ]
          },
          "metadata": {},
          "execution_count": 74
        }
      ]
    },
    {
      "cell_type": "code",
      "source": [
        "def calculate_variance(nl):\n",
        "    if len(nl) == 0:\n",
        "        return None  # Повертаємо None, якщо список порожній\n",
        "\n",
        "    sum_list = sum(nl)\n",
        "    mean = sum_list / len(nl)\n",
        "    sum_squares = sum(n**2 for n in nl)\n",
        "    mean_squares = sum_squares / len(nl)\n",
        "    variance = mean_squares - mean**2\n",
        "\n",
        "    return variance\n",
        "\n"
      ],
      "metadata": {
        "id": "bpqHYb3sxNbL"
      },
      "id": "bpqHYb3sxNbL",
      "execution_count": 77,
      "outputs": []
    },
    {
      "cell_type": "code",
      "source": [
        "calculate_variance(input_list)"
      ],
      "metadata": {
        "colab": {
          "base_uri": "https://localhost:8080/"
        },
        "id": "i15J8j_fxRJR",
        "outputId": "eee3f22a-4ace-4b20-9682-49fddf4c39b6"
      },
      "id": "i15J8j_fxRJR",
      "execution_count": 78,
      "outputs": [
        {
          "output_type": "execute_result",
          "data": {
            "text/plain": [
              "50.0"
            ]
          },
          "metadata": {},
          "execution_count": 78
        }
      ]
    },
    {
      "cell_type": "markdown",
      "source": [
        "![Chat_GPT.png](data:image/png;base64,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)"
      ],
      "metadata": {
        "id": "taQUf2a8yLLx"
      },
      "id": "taQUf2a8yLLx"
    }
  ],
  "metadata": {
    "kernelspec": {
      "display_name": "Python 3 (ipykernel)",
      "language": "python",
      "name": "python3"
    },
    "language_info": {
      "codemirror_mode": {
        "name": "ipython",
        "version": 3
      },
      "file_extension": ".py",
      "mimetype": "text/x-python",
      "name": "python",
      "nbconvert_exporter": "python",
      "pygments_lexer": "ipython3",
      "version": "3.10.4"
    },
    "toc": {
      "base_numbering": 1,
      "nav_menu": {},
      "number_sections": true,
      "sideBar": true,
      "skip_h1_title": false,
      "title_cell": "Table of Contents",
      "title_sidebar": "Contents",
      "toc_cell": false,
      "toc_position": {},
      "toc_section_display": true,
      "toc_window_display": false
    },
    "colab": {
      "provenance": [],
      "include_colab_link": true
    },
    "widgets": {
      "application/vnd.jupyter.widget-state+json": {
        "d90b59bc912042c3ae29b19a1e095dec": {
          "model_module": "@jupyter-widgets/controls",
          "model_name": "HBoxModel",
          "model_module_version": "1.5.0",
          "state": {
            "_dom_classes": [],
            "_model_module": "@jupyter-widgets/controls",
            "_model_module_version": "1.5.0",
            "_model_name": "HBoxModel",
            "_view_count": null,
            "_view_module": "@jupyter-widgets/controls",
            "_view_module_version": "1.5.0",
            "_view_name": "HBoxView",
            "box_style": "",
            "children": [
              "IPY_MODEL_8ab6831e9c6b4d1bb03b0abe2a8be82c",
              "IPY_MODEL_a2d1d996f6ac41b09d526e41af561337",
              "IPY_MODEL_069465dc991e4eed98189dfa13fdedf9"
            ],
            "layout": "IPY_MODEL_a28acee028d344dea434546ff8d15c56"
          }
        },
        "8ab6831e9c6b4d1bb03b0abe2a8be82c": {
          "model_module": "@jupyter-widgets/controls",
          "model_name": "HTMLModel",
          "model_module_version": "1.5.0",
          "state": {
            "_dom_classes": [],
            "_model_module": "@jupyter-widgets/controls",
            "_model_module_version": "1.5.0",
            "_model_name": "HTMLModel",
            "_view_count": null,
            "_view_module": "@jupyter-widgets/controls",
            "_view_module_version": "1.5.0",
            "_view_name": "HTMLView",
            "description": "",
            "description_tooltip": null,
            "layout": "IPY_MODEL_398f4bfc0fdf4d86978d228daa650cd0",
            "placeholder": "​",
            "style": "IPY_MODEL_2baf9b6391a24f9f810e70b239d9a129",
            "value": "Done! Use &#x27;show&#x27; commands to display/save.   "
          }
        },
        "a2d1d996f6ac41b09d526e41af561337": {
          "model_module": "@jupyter-widgets/controls",
          "model_name": "FloatProgressModel",
          "model_module_version": "1.5.0",
          "state": {
            "_dom_classes": [],
            "_model_module": "@jupyter-widgets/controls",
            "_model_module_version": "1.5.0",
            "_model_name": "FloatProgressModel",
            "_view_count": null,
            "_view_module": "@jupyter-widgets/controls",
            "_view_module_version": "1.5.0",
            "_view_name": "ProgressView",
            "bar_style": "success",
            "description": "",
            "description_tooltip": null,
            "layout": "IPY_MODEL_add80e57e5534572900fe18c7daf5ee9",
            "max": 1,
            "min": 0,
            "orientation": "horizontal",
            "style": "IPY_MODEL_f66dfdffba0945fa83b11e062b4bdc23",
            "value": 1
          }
        },
        "069465dc991e4eed98189dfa13fdedf9": {
          "model_module": "@jupyter-widgets/controls",
          "model_name": "HTMLModel",
          "model_module_version": "1.5.0",
          "state": {
            "_dom_classes": [],
            "_model_module": "@jupyter-widgets/controls",
            "_model_module_version": "1.5.0",
            "_model_name": "HTMLModel",
            "_view_count": null,
            "_view_module": "@jupyter-widgets/controls",
            "_view_module_version": "1.5.0",
            "_view_name": "HTMLView",
            "description": "",
            "description_tooltip": null,
            "layout": "IPY_MODEL_238e08a93a0f40378379114a048e9f7b",
            "placeholder": "​",
            "style": "IPY_MODEL_ba677154b25d470ea2c7dab94cb3368a",
            "value": " [100%]   00:00 -&gt; (00:00 left)"
          }
        },
        "a28acee028d344dea434546ff8d15c56": {
          "model_module": "@jupyter-widgets/base",
          "model_name": "LayoutModel",
          "model_module_version": "1.2.0",
          "state": {
            "_model_module": "@jupyter-widgets/base",
            "_model_module_version": "1.2.0",
            "_model_name": "LayoutModel",
            "_view_count": null,
            "_view_module": "@jupyter-widgets/base",
            "_view_module_version": "1.2.0",
            "_view_name": "LayoutView",
            "align_content": null,
            "align_items": null,
            "align_self": null,
            "border": null,
            "bottom": null,
            "display": "inline-flex",
            "flex": null,
            "flex_flow": "row wrap",
            "grid_area": null,
            "grid_auto_columns": null,
            "grid_auto_flow": null,
            "grid_auto_rows": null,
            "grid_column": null,
            "grid_gap": null,
            "grid_row": null,
            "grid_template_areas": null,
            "grid_template_columns": null,
            "grid_template_rows": null,
            "height": null,
            "justify_content": null,
            "justify_items": null,
            "left": null,
            "margin": null,
            "max_height": null,
            "max_width": null,
            "min_height": null,
            "min_width": null,
            "object_fit": null,
            "object_position": null,
            "order": null,
            "overflow": null,
            "overflow_x": null,
            "overflow_y": null,
            "padding": null,
            "right": null,
            "top": null,
            "visibility": null,
            "width": "100%"
          }
        },
        "398f4bfc0fdf4d86978d228daa650cd0": {
          "model_module": "@jupyter-widgets/base",
          "model_name": "LayoutModel",
          "model_module_version": "1.2.0",
          "state": {
            "_model_module": "@jupyter-widgets/base",
            "_model_module_version": "1.2.0",
            "_model_name": "LayoutModel",
            "_view_count": null,
            "_view_module": "@jupyter-widgets/base",
            "_view_module_version": "1.2.0",
            "_view_name": "LayoutView",
            "align_content": null,
            "align_items": null,
            "align_self": null,
            "border": null,
            "bottom": null,
            "display": null,
            "flex": null,
            "flex_flow": null,
            "grid_area": null,
            "grid_auto_columns": null,
            "grid_auto_flow": null,
            "grid_auto_rows": null,
            "grid_column": null,
            "grid_gap": null,
            "grid_row": null,
            "grid_template_areas": null,
            "grid_template_columns": null,
            "grid_template_rows": null,
            "height": null,
            "justify_content": null,
            "justify_items": null,
            "left": null,
            "margin": null,
            "max_height": null,
            "max_width": null,
            "min_height": null,
            "min_width": null,
            "object_fit": null,
            "object_position": null,
            "order": null,
            "overflow": null,
            "overflow_x": null,
            "overflow_y": null,
            "padding": null,
            "right": null,
            "top": null,
            "visibility": null,
            "width": null
          }
        },
        "2baf9b6391a24f9f810e70b239d9a129": {
          "model_module": "@jupyter-widgets/controls",
          "model_name": "DescriptionStyleModel",
          "model_module_version": "1.5.0",
          "state": {
            "_model_module": "@jupyter-widgets/controls",
            "_model_module_version": "1.5.0",
            "_model_name": "DescriptionStyleModel",
            "_view_count": null,
            "_view_module": "@jupyter-widgets/base",
            "_view_module_version": "1.2.0",
            "_view_name": "StyleView",
            "description_width": ""
          }
        },
        "add80e57e5534572900fe18c7daf5ee9": {
          "model_module": "@jupyter-widgets/base",
          "model_name": "LayoutModel",
          "model_module_version": "1.2.0",
          "state": {
            "_model_module": "@jupyter-widgets/base",
            "_model_module_version": "1.2.0",
            "_model_name": "LayoutModel",
            "_view_count": null,
            "_view_module": "@jupyter-widgets/base",
            "_view_module_version": "1.2.0",
            "_view_name": "LayoutView",
            "align_content": null,
            "align_items": null,
            "align_self": null,
            "border": null,
            "bottom": null,
            "display": null,
            "flex": "2",
            "flex_flow": null,
            "grid_area": null,
            "grid_auto_columns": null,
            "grid_auto_flow": null,
            "grid_auto_rows": null,
            "grid_column": null,
            "grid_gap": null,
            "grid_row": null,
            "grid_template_areas": null,
            "grid_template_columns": null,
            "grid_template_rows": null,
            "height": null,
            "justify_content": null,
            "justify_items": null,
            "left": null,
            "margin": null,
            "max_height": null,
            "max_width": null,
            "min_height": null,
            "min_width": null,
            "object_fit": null,
            "object_position": null,
            "order": null,
            "overflow": null,
            "overflow_x": null,
            "overflow_y": null,
            "padding": null,
            "right": null,
            "top": null,
            "visibility": null,
            "width": null
          }
        },
        "f66dfdffba0945fa83b11e062b4bdc23": {
          "model_module": "@jupyter-widgets/controls",
          "model_name": "ProgressStyleModel",
          "model_module_version": "1.5.0",
          "state": {
            "_model_module": "@jupyter-widgets/controls",
            "_model_module_version": "1.5.0",
            "_model_name": "ProgressStyleModel",
            "_view_count": null,
            "_view_module": "@jupyter-widgets/base",
            "_view_module_version": "1.2.0",
            "_view_name": "StyleView",
            "bar_color": null,
            "description_width": ""
          }
        },
        "238e08a93a0f40378379114a048e9f7b": {
          "model_module": "@jupyter-widgets/base",
          "model_name": "LayoutModel",
          "model_module_version": "1.2.0",
          "state": {
            "_model_module": "@jupyter-widgets/base",
            "_model_module_version": "1.2.0",
            "_model_name": "LayoutModel",
            "_view_count": null,
            "_view_module": "@jupyter-widgets/base",
            "_view_module_version": "1.2.0",
            "_view_name": "LayoutView",
            "align_content": null,
            "align_items": null,
            "align_self": null,
            "border": null,
            "bottom": null,
            "display": null,
            "flex": null,
            "flex_flow": null,
            "grid_area": null,
            "grid_auto_columns": null,
            "grid_auto_flow": null,
            "grid_auto_rows": null,
            "grid_column": null,
            "grid_gap": null,
            "grid_row": null,
            "grid_template_areas": null,
            "grid_template_columns": null,
            "grid_template_rows": null,
            "height": null,
            "justify_content": null,
            "justify_items": null,
            "left": null,
            "margin": null,
            "max_height": null,
            "max_width": null,
            "min_height": null,
            "min_width": null,
            "object_fit": null,
            "object_position": null,
            "order": null,
            "overflow": null,
            "overflow_x": null,
            "overflow_y": null,
            "padding": null,
            "right": null,
            "top": null,
            "visibility": null,
            "width": null
          }
        },
        "ba677154b25d470ea2c7dab94cb3368a": {
          "model_module": "@jupyter-widgets/controls",
          "model_name": "DescriptionStyleModel",
          "model_module_version": "1.5.0",
          "state": {
            "_model_module": "@jupyter-widgets/controls",
            "_model_module_version": "1.5.0",
            "_model_name": "DescriptionStyleModel",
            "_view_count": null,
            "_view_module": "@jupyter-widgets/base",
            "_view_module_version": "1.2.0",
            "_view_name": "StyleView",
            "description_width": ""
          }
        },
        "a3b5f7a98a3a4c63a21e6b9e61446cab": {
          "model_module": "@jupyter-widgets/controls",
          "model_name": "HBoxModel",
          "model_module_version": "1.5.0",
          "state": {
            "_dom_classes": [],
            "_model_module": "@jupyter-widgets/controls",
            "_model_module_version": "1.5.0",
            "_model_name": "HBoxModel",
            "_view_count": null,
            "_view_module": "@jupyter-widgets/controls",
            "_view_module_version": "1.5.0",
            "_view_name": "HBoxView",
            "box_style": "",
            "children": [
              "IPY_MODEL_654b21d05a2b47cf8aa221cebd7cb6bc",
              "IPY_MODEL_da5295c23d1e4356b1b3bdb2aafc6307",
              "IPY_MODEL_82204082ec8748b0901949a996a79737"
            ],
            "layout": "IPY_MODEL_a55631946a8842d5b24714dbdf6b4e54"
          }
        },
        "654b21d05a2b47cf8aa221cebd7cb6bc": {
          "model_module": "@jupyter-widgets/controls",
          "model_name": "HTMLModel",
          "model_module_version": "1.5.0",
          "state": {
            "_dom_classes": [],
            "_model_module": "@jupyter-widgets/controls",
            "_model_module_version": "1.5.0",
            "_model_name": "HTMLModel",
            "_view_count": null,
            "_view_module": "@jupyter-widgets/controls",
            "_view_module_version": "1.5.0",
            "_view_name": "HTMLView",
            "description": "",
            "description_tooltip": null,
            "layout": "IPY_MODEL_f250d52bd3604c5dbe39e63edae3bfdc",
            "placeholder": "​",
            "style": "IPY_MODEL_ad4705d7c2bf4c8ca069f1773d12f4da",
            "value": "Done! Use &#x27;show&#x27; commands to display/save.   "
          }
        },
        "da5295c23d1e4356b1b3bdb2aafc6307": {
          "model_module": "@jupyter-widgets/controls",
          "model_name": "FloatProgressModel",
          "model_module_version": "1.5.0",
          "state": {
            "_dom_classes": [],
            "_model_module": "@jupyter-widgets/controls",
            "_model_module_version": "1.5.0",
            "_model_name": "FloatProgressModel",
            "_view_count": null,
            "_view_module": "@jupyter-widgets/controls",
            "_view_module_version": "1.5.0",
            "_view_name": "ProgressView",
            "bar_style": "success",
            "description": "",
            "description_tooltip": null,
            "layout": "IPY_MODEL_16144d5a110c40e2b0ea90d51ad691c7",
            "max": 1,
            "min": 0,
            "orientation": "horizontal",
            "style": "IPY_MODEL_ac2b52b9b80f4379a498c67b229918ae",
            "value": 1
          }
        },
        "82204082ec8748b0901949a996a79737": {
          "model_module": "@jupyter-widgets/controls",
          "model_name": "HTMLModel",
          "model_module_version": "1.5.0",
          "state": {
            "_dom_classes": [],
            "_model_module": "@jupyter-widgets/controls",
            "_model_module_version": "1.5.0",
            "_model_name": "HTMLModel",
            "_view_count": null,
            "_view_module": "@jupyter-widgets/controls",
            "_view_module_version": "1.5.0",
            "_view_name": "HTMLView",
            "description": "",
            "description_tooltip": null,
            "layout": "IPY_MODEL_70cc2368e0a747bf966a1ec526dc3e3b",
            "placeholder": "​",
            "style": "IPY_MODEL_ba5021cf4ea84d639985c51754cd6979",
            "value": " [100%]   00:01 -&gt; (00:00 left)"
          }
        },
        "a55631946a8842d5b24714dbdf6b4e54": {
          "model_module": "@jupyter-widgets/base",
          "model_name": "LayoutModel",
          "model_module_version": "1.2.0",
          "state": {
            "_model_module": "@jupyter-widgets/base",
            "_model_module_version": "1.2.0",
            "_model_name": "LayoutModel",
            "_view_count": null,
            "_view_module": "@jupyter-widgets/base",
            "_view_module_version": "1.2.0",
            "_view_name": "LayoutView",
            "align_content": null,
            "align_items": null,
            "align_self": null,
            "border": null,
            "bottom": null,
            "display": "inline-flex",
            "flex": null,
            "flex_flow": "row wrap",
            "grid_area": null,
            "grid_auto_columns": null,
            "grid_auto_flow": null,
            "grid_auto_rows": null,
            "grid_column": null,
            "grid_gap": null,
            "grid_row": null,
            "grid_template_areas": null,
            "grid_template_columns": null,
            "grid_template_rows": null,
            "height": null,
            "justify_content": null,
            "justify_items": null,
            "left": null,
            "margin": null,
            "max_height": null,
            "max_width": null,
            "min_height": null,
            "min_width": null,
            "object_fit": null,
            "object_position": null,
            "order": null,
            "overflow": null,
            "overflow_x": null,
            "overflow_y": null,
            "padding": null,
            "right": null,
            "top": null,
            "visibility": null,
            "width": "100%"
          }
        },
        "f250d52bd3604c5dbe39e63edae3bfdc": {
          "model_module": "@jupyter-widgets/base",
          "model_name": "LayoutModel",
          "model_module_version": "1.2.0",
          "state": {
            "_model_module": "@jupyter-widgets/base",
            "_model_module_version": "1.2.0",
            "_model_name": "LayoutModel",
            "_view_count": null,
            "_view_module": "@jupyter-widgets/base",
            "_view_module_version": "1.2.0",
            "_view_name": "LayoutView",
            "align_content": null,
            "align_items": null,
            "align_self": null,
            "border": null,
            "bottom": null,
            "display": null,
            "flex": null,
            "flex_flow": null,
            "grid_area": null,
            "grid_auto_columns": null,
            "grid_auto_flow": null,
            "grid_auto_rows": null,
            "grid_column": null,
            "grid_gap": null,
            "grid_row": null,
            "grid_template_areas": null,
            "grid_template_columns": null,
            "grid_template_rows": null,
            "height": null,
            "justify_content": null,
            "justify_items": null,
            "left": null,
            "margin": null,
            "max_height": null,
            "max_width": null,
            "min_height": null,
            "min_width": null,
            "object_fit": null,
            "object_position": null,
            "order": null,
            "overflow": null,
            "overflow_x": null,
            "overflow_y": null,
            "padding": null,
            "right": null,
            "top": null,
            "visibility": null,
            "width": null
          }
        },
        "ad4705d7c2bf4c8ca069f1773d12f4da": {
          "model_module": "@jupyter-widgets/controls",
          "model_name": "DescriptionStyleModel",
          "model_module_version": "1.5.0",
          "state": {
            "_model_module": "@jupyter-widgets/controls",
            "_model_module_version": "1.5.0",
            "_model_name": "DescriptionStyleModel",
            "_view_count": null,
            "_view_module": "@jupyter-widgets/base",
            "_view_module_version": "1.2.0",
            "_view_name": "StyleView",
            "description_width": ""
          }
        },
        "16144d5a110c40e2b0ea90d51ad691c7": {
          "model_module": "@jupyter-widgets/base",
          "model_name": "LayoutModel",
          "model_module_version": "1.2.0",
          "state": {
            "_model_module": "@jupyter-widgets/base",
            "_model_module_version": "1.2.0",
            "_model_name": "LayoutModel",
            "_view_count": null,
            "_view_module": "@jupyter-widgets/base",
            "_view_module_version": "1.2.0",
            "_view_name": "LayoutView",
            "align_content": null,
            "align_items": null,
            "align_self": null,
            "border": null,
            "bottom": null,
            "display": null,
            "flex": "2",
            "flex_flow": null,
            "grid_area": null,
            "grid_auto_columns": null,
            "grid_auto_flow": null,
            "grid_auto_rows": null,
            "grid_column": null,
            "grid_gap": null,
            "grid_row": null,
            "grid_template_areas": null,
            "grid_template_columns": null,
            "grid_template_rows": null,
            "height": null,
            "justify_content": null,
            "justify_items": null,
            "left": null,
            "margin": null,
            "max_height": null,
            "max_width": null,
            "min_height": null,
            "min_width": null,
            "object_fit": null,
            "object_position": null,
            "order": null,
            "overflow": null,
            "overflow_x": null,
            "overflow_y": null,
            "padding": null,
            "right": null,
            "top": null,
            "visibility": null,
            "width": null
          }
        },
        "ac2b52b9b80f4379a498c67b229918ae": {
          "model_module": "@jupyter-widgets/controls",
          "model_name": "ProgressStyleModel",
          "model_module_version": "1.5.0",
          "state": {
            "_model_module": "@jupyter-widgets/controls",
            "_model_module_version": "1.5.0",
            "_model_name": "ProgressStyleModel",
            "_view_count": null,
            "_view_module": "@jupyter-widgets/base",
            "_view_module_version": "1.2.0",
            "_view_name": "StyleView",
            "bar_color": null,
            "description_width": ""
          }
        },
        "70cc2368e0a747bf966a1ec526dc3e3b": {
          "model_module": "@jupyter-widgets/base",
          "model_name": "LayoutModel",
          "model_module_version": "1.2.0",
          "state": {
            "_model_module": "@jupyter-widgets/base",
            "_model_module_version": "1.2.0",
            "_model_name": "LayoutModel",
            "_view_count": null,
            "_view_module": "@jupyter-widgets/base",
            "_view_module_version": "1.2.0",
            "_view_name": "LayoutView",
            "align_content": null,
            "align_items": null,
            "align_self": null,
            "border": null,
            "bottom": null,
            "display": null,
            "flex": null,
            "flex_flow": null,
            "grid_area": null,
            "grid_auto_columns": null,
            "grid_auto_flow": null,
            "grid_auto_rows": null,
            "grid_column": null,
            "grid_gap": null,
            "grid_row": null,
            "grid_template_areas": null,
            "grid_template_columns": null,
            "grid_template_rows": null,
            "height": null,
            "justify_content": null,
            "justify_items": null,
            "left": null,
            "margin": null,
            "max_height": null,
            "max_width": null,
            "min_height": null,
            "min_width": null,
            "object_fit": null,
            "object_position": null,
            "order": null,
            "overflow": null,
            "overflow_x": null,
            "overflow_y": null,
            "padding": null,
            "right": null,
            "top": null,
            "visibility": null,
            "width": null
          }
        },
        "ba5021cf4ea84d639985c51754cd6979": {
          "model_module": "@jupyter-widgets/controls",
          "model_name": "DescriptionStyleModel",
          "model_module_version": "1.5.0",
          "state": {
            "_model_module": "@jupyter-widgets/controls",
            "_model_module_version": "1.5.0",
            "_model_name": "DescriptionStyleModel",
            "_view_count": null,
            "_view_module": "@jupyter-widgets/base",
            "_view_module_version": "1.2.0",
            "_view_name": "StyleView",
            "description_width": ""
          }
        }
      }
    }
  },
  "nbformat": 4,
  "nbformat_minor": 5
}